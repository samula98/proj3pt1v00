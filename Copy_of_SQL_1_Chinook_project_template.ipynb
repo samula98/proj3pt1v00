{
  "nbformat": 4,
  "nbformat_minor": 0,
  "metadata": {
    "colab": {
      "provenance": [],
      "include_colab_link": true
    },
    "kernelspec": {
      "name": "python3",
      "display_name": "Python 3"
    },
    "language_info": {
      "name": "python"
    }
  },
  "cells": [
    {
      "cell_type": "markdown",
      "metadata": {
        "id": "view-in-github",
        "colab_type": "text"
      },
      "source": [
        "<a href=\"https://colab.research.google.com/github/samula98/proj3pt1v00/blob/main/Copy_of_SQL_1_Chinook_project_template.ipynb\" target=\"_parent\"><img src=\"https://colab.research.google.com/assets/colab-badge.svg\" alt=\"Open In Colab\"/></a>"
      ]
    },
    {
      "cell_type": "markdown",
      "source": [
        "# Project SQL - Chinook\n"
      ],
      "metadata": {
        "id": "cJG_e1vK2NMI"
      }
    },
    {
      "cell_type": "markdown",
      "source": [
        "## Chinook data set\n",
        "\n",
        "See the lecture on SQLite3 using the Chinook data set to set up the software, database, and tables, as well as for the links to ancillary information about the data set.\n"
      ],
      "metadata": {
        "id": "s6jMcIbW3P5o"
      }
    },
    {
      "cell_type": "code",
      "source": [
        "# Install the sqlite package for Ubuntu\n",
        "%%capture\n",
        "%%bash\n",
        "apt-get update\n",
        "apt-get install -y sqlite3\n"
      ],
      "metadata": {
        "id": "UhFW0uTR6Jfv"
      },
      "execution_count": 1,
      "outputs": []
    },
    {
      "cell_type": "code",
      "source": [
        "# Download the Chinook sqlite database\n",
        "%%bash\n",
        "[ -f chinook.zip ] ||\n",
        "  curl -s -O https://www.sqlitetutorial.net/wp-content/uploads/2018/03/chinook.zip\n",
        "unzip -l chinook.zip\n"
      ],
      "metadata": {
        "colab": {
          "base_uri": "https://localhost:8080/"
        },
        "collapsed": true,
        "id": "2EnidXvNy5vj",
        "outputId": "0f4dadbe-1055-4fdc-c5e6-3e76420a1207"
      },
      "execution_count": 2,
      "outputs": [
        {
          "output_type": "stream",
          "name": "stdout",
          "text": [
            "Archive:  chinook.zip\n",
            "  Length      Date    Time    Name\n",
            "---------  ---------- -----   ----\n",
            "   884736  2015-11-29 10:53   chinook.db\n",
            "---------                     -------\n",
            "   884736                     1 file\n"
          ]
        }
      ]
    },
    {
      "cell_type": "code",
      "source": [
        "# unzipping file\n",
        "!unzip -u chinook.zip\n"
      ],
      "metadata": {
        "colab": {
          "base_uri": "https://localhost:8080/"
        },
        "collapsed": true,
        "id": "EoUeb49RzEIT",
        "outputId": "5d7bf59a-ae19-4451-ee2b-4a856ae4b86d"
      },
      "execution_count": 3,
      "outputs": [
        {
          "output_type": "stream",
          "name": "stdout",
          "text": [
            "Archive:  chinook.zip\n",
            "  inflating: chinook.db              \n"
          ]
        }
      ]
    },
    {
      "cell_type": "code",
      "source": [
        "# listing out all the files\n",
        "!ls -la"
      ],
      "metadata": {
        "colab": {
          "base_uri": "https://localhost:8080/"
        },
        "collapsed": true,
        "id": "DVMzRUJUzQUm",
        "outputId": "b9a7ceed-7cd9-4d1b-82df-a6c7410bc807"
      },
      "execution_count": 4,
      "outputs": [
        {
          "output_type": "stream",
          "name": "stdout",
          "text": [
            "total 1180\n",
            "drwxr-xr-x 1 root root   4096 Oct 29 18:33 .\n",
            "drwxr-xr-x 1 root root   4096 Oct 29 18:31 ..\n",
            "-rw-r--r-- 1 root root 884736 Nov 29  2015 chinook.db\n",
            "-rw-r--r-- 1 root root 305596 Oct 29 18:33 chinook.zip\n",
            "drwxr-xr-x 4 root root   4096 Oct 28 13:26 .config\n",
            "drwxr-xr-x 1 root root   4096 Oct 28 13:27 sample_data\n"
          ]
        }
      ]
    },
    {
      "cell_type": "code",
      "source": [
        "# List of the tables in the database\n",
        "%%script sqlite3 --column --header chinook.db\n",
        ".tables\n",
        ";"
      ],
      "metadata": {
        "colab": {
          "base_uri": "https://localhost:8080/"
        },
        "id": "UAtCPKdNzZkH",
        "outputId": "d679dad8-c59c-496b-c255-e6d3c045b592"
      },
      "execution_count": 5,
      "outputs": [
        {
          "output_type": "stream",
          "name": "stdout",
          "text": [
            "albums          employees       invoices        playlists     \n",
            "artists         genres          media_types     tracks        \n",
            "customers       invoice_items   playlist_track\n"
          ]
        }
      ]
    },
    {
      "cell_type": "code",
      "source": [
        "# Show schema for the entire database\n",
        "%%script sqlite3 --column --header chinook.db\n",
        ".schema\n",
        ";"
      ],
      "metadata": {
        "colab": {
          "base_uri": "https://localhost:8080/"
        },
        "collapsed": true,
        "id": "SHmNO1Cbzpy5",
        "outputId": "82818fa7-6fab-417f-e900-3591f35051db"
      },
      "execution_count": 6,
      "outputs": [
        {
          "output_type": "stream",
          "name": "stdout",
          "text": [
            "CREATE TABLE IF NOT EXISTS \"albums\"\r\n",
            "(\r\n",
            "    [AlbumId] INTEGER PRIMARY KEY AUTOINCREMENT NOT NULL,\r\n",
            "    [Title] NVARCHAR(160)  NOT NULL,\r\n",
            "    [ArtistId] INTEGER  NOT NULL,\r\n",
            "    FOREIGN KEY ([ArtistId]) REFERENCES \"artists\" ([ArtistId]) \r\n",
            "\t\tON DELETE NO ACTION ON UPDATE NO ACTION\r\n",
            ");\n",
            "CREATE TABLE sqlite_sequence(name,seq);\n",
            "CREATE TABLE IF NOT EXISTS \"artists\"\r\n",
            "(\r\n",
            "    [ArtistId] INTEGER PRIMARY KEY AUTOINCREMENT NOT NULL,\r\n",
            "    [Name] NVARCHAR(120)\r\n",
            ");\n",
            "CREATE TABLE IF NOT EXISTS \"customers\"\r\n",
            "(\r\n",
            "    [CustomerId] INTEGER PRIMARY KEY AUTOINCREMENT NOT NULL,\r\n",
            "    [FirstName] NVARCHAR(40)  NOT NULL,\r\n",
            "    [LastName] NVARCHAR(20)  NOT NULL,\r\n",
            "    [Company] NVARCHAR(80),\r\n",
            "    [Address] NVARCHAR(70),\r\n",
            "    [City] NVARCHAR(40),\r\n",
            "    [State] NVARCHAR(40),\r\n",
            "    [Country] NVARCHAR(40),\r\n",
            "    [PostalCode] NVARCHAR(10),\r\n",
            "    [Phone] NVARCHAR(24),\r\n",
            "    [Fax] NVARCHAR(24),\r\n",
            "    [Email] NVARCHAR(60)  NOT NULL,\r\n",
            "    [SupportRepId] INTEGER,\r\n",
            "    FOREIGN KEY ([SupportRepId]) REFERENCES \"employees\" ([EmployeeId]) \r\n",
            "\t\tON DELETE NO ACTION ON UPDATE NO ACTION\r\n",
            ");\n",
            "CREATE TABLE IF NOT EXISTS \"employees\"\r\n",
            "(\r\n",
            "    [EmployeeId] INTEGER PRIMARY KEY AUTOINCREMENT NOT NULL,\r\n",
            "    [LastName] NVARCHAR(20)  NOT NULL,\r\n",
            "    [FirstName] NVARCHAR(20)  NOT NULL,\r\n",
            "    [Title] NVARCHAR(30),\r\n",
            "    [ReportsTo] INTEGER,\r\n",
            "    [BirthDate] DATETIME,\r\n",
            "    [HireDate] DATETIME,\r\n",
            "    [Address] NVARCHAR(70),\r\n",
            "    [City] NVARCHAR(40),\r\n",
            "    [State] NVARCHAR(40),\r\n",
            "    [Country] NVARCHAR(40),\r\n",
            "    [PostalCode] NVARCHAR(10),\r\n",
            "    [Phone] NVARCHAR(24),\r\n",
            "    [Fax] NVARCHAR(24),\r\n",
            "    [Email] NVARCHAR(60),\r\n",
            "    FOREIGN KEY ([ReportsTo]) REFERENCES \"employees\" ([EmployeeId]) \r\n",
            "\t\tON DELETE NO ACTION ON UPDATE NO ACTION\r\n",
            ");\n",
            "CREATE TABLE IF NOT EXISTS \"genres\"\r\n",
            "(\r\n",
            "    [GenreId] INTEGER PRIMARY KEY AUTOINCREMENT NOT NULL,\r\n",
            "    [Name] NVARCHAR(120)\r\n",
            ");\n",
            "CREATE TABLE IF NOT EXISTS \"invoices\"\r\n",
            "(\r\n",
            "    [InvoiceId] INTEGER PRIMARY KEY AUTOINCREMENT NOT NULL,\r\n",
            "    [CustomerId] INTEGER  NOT NULL,\r\n",
            "    [InvoiceDate] DATETIME  NOT NULL,\r\n",
            "    [BillingAddress] NVARCHAR(70),\r\n",
            "    [BillingCity] NVARCHAR(40),\r\n",
            "    [BillingState] NVARCHAR(40),\r\n",
            "    [BillingCountry] NVARCHAR(40),\r\n",
            "    [BillingPostalCode] NVARCHAR(10),\r\n",
            "    [Total] NUMERIC(10,2)  NOT NULL,\r\n",
            "    FOREIGN KEY ([CustomerId]) REFERENCES \"customers\" ([CustomerId]) \r\n",
            "\t\tON DELETE NO ACTION ON UPDATE NO ACTION\r\n",
            ");\n",
            "CREATE TABLE IF NOT EXISTS \"invoice_items\"\r\n",
            "(\r\n",
            "    [InvoiceLineId] INTEGER PRIMARY KEY AUTOINCREMENT NOT NULL,\r\n",
            "    [InvoiceId] INTEGER  NOT NULL,\r\n",
            "    [TrackId] INTEGER  NOT NULL,\r\n",
            "    [UnitPrice] NUMERIC(10,2)  NOT NULL,\r\n",
            "    [Quantity] INTEGER  NOT NULL,\r\n",
            "    FOREIGN KEY ([InvoiceId]) REFERENCES \"invoices\" ([InvoiceId]) \r\n",
            "\t\tON DELETE NO ACTION ON UPDATE NO ACTION,\r\n",
            "    FOREIGN KEY ([TrackId]) REFERENCES \"tracks\" ([TrackId]) \r\n",
            "\t\tON DELETE NO ACTION ON UPDATE NO ACTION\r\n",
            ");\n",
            "CREATE TABLE IF NOT EXISTS \"media_types\"\r\n",
            "(\r\n",
            "    [MediaTypeId] INTEGER PRIMARY KEY AUTOINCREMENT NOT NULL,\r\n",
            "    [Name] NVARCHAR(120)\r\n",
            ");\n",
            "CREATE TABLE IF NOT EXISTS \"playlists\"\r\n",
            "(\r\n",
            "    [PlaylistId] INTEGER PRIMARY KEY AUTOINCREMENT NOT NULL,\r\n",
            "    [Name] NVARCHAR(120)\r\n",
            ");\n",
            "CREATE TABLE IF NOT EXISTS \"playlist_track\"\r\n",
            "(\r\n",
            "    [PlaylistId] INTEGER  NOT NULL,\r\n",
            "    [TrackId] INTEGER  NOT NULL,\r\n",
            "    CONSTRAINT [PK_PlaylistTrack] PRIMARY KEY  ([PlaylistId], [TrackId]),\r\n",
            "    FOREIGN KEY ([PlaylistId]) REFERENCES \"playlists\" ([PlaylistId]) \r\n",
            "\t\tON DELETE NO ACTION ON UPDATE NO ACTION,\r\n",
            "    FOREIGN KEY ([TrackId]) REFERENCES \"tracks\" ([TrackId]) \r\n",
            "\t\tON DELETE NO ACTION ON UPDATE NO ACTION\r\n",
            ");\n",
            "CREATE TABLE IF NOT EXISTS \"tracks\"\r\n",
            "(\r\n",
            "    [TrackId] INTEGER PRIMARY KEY AUTOINCREMENT NOT NULL,\r\n",
            "    [Name] NVARCHAR(200)  NOT NULL,\r\n",
            "    [AlbumId] INTEGER,\r\n",
            "    [MediaTypeId] INTEGER  NOT NULL,\r\n",
            "    [GenreId] INTEGER,\r\n",
            "    [Composer] NVARCHAR(220),\r\n",
            "    [Milliseconds] INTEGER  NOT NULL,\r\n",
            "    [Bytes] INTEGER,\r\n",
            "    [UnitPrice] NUMERIC(10,2)  NOT NULL,\r\n",
            "    FOREIGN KEY ([AlbumId]) REFERENCES \"albums\" ([AlbumId]) \r\n",
            "\t\tON DELETE NO ACTION ON UPDATE NO ACTION,\r\n",
            "    FOREIGN KEY ([GenreId]) REFERENCES \"genres\" ([GenreId]) \r\n",
            "\t\tON DELETE NO ACTION ON UPDATE NO ACTION,\r\n",
            "    FOREIGN KEY ([MediaTypeId]) REFERENCES \"media_types\" ([MediaTypeId]) \r\n",
            "\t\tON DELETE NO ACTION ON UPDATE NO ACTION\r\n",
            ");\n",
            "CREATE INDEX [IFK_AlbumArtistId] ON \"albums\" ([ArtistId]);\n",
            "CREATE INDEX [IFK_CustomerSupportRepId] ON \"customers\" ([SupportRepId]);\n",
            "CREATE INDEX [IFK_EmployeeReportsTo] ON \"employees\" ([ReportsTo]);\n",
            "CREATE INDEX [IFK_InvoiceCustomerId] ON \"invoices\" ([CustomerId]);\n",
            "CREATE INDEX [IFK_InvoiceLineInvoiceId] ON \"invoice_items\" ([InvoiceId]);\n",
            "CREATE INDEX [IFK_InvoiceLineTrackId] ON \"invoice_items\" ([TrackId]);\n",
            "CREATE INDEX [IFK_PlaylistTrackTrackId] ON \"playlist_track\" ([TrackId]);\n",
            "CREATE INDEX [IFK_TrackAlbumId] ON \"tracks\" ([AlbumId]);\n",
            "CREATE INDEX [IFK_TrackGenreId] ON \"tracks\" ([GenreId]);\n",
            "CREATE INDEX [IFK_TrackMediaTypeId] ON \"tracks\" ([MediaTypeId]);\n",
            "CREATE TABLE sqlite_stat1(tbl,idx,stat);\n"
          ]
        }
      ]
    },
    {
      "cell_type": "code",
      "source": [
        "# Count of number of unique albums\n",
        "%%script sqlite3 --column --header chinook.db\n",
        "select count(distinct AlbumID)\n",
        "from tracks\n",
        ";"
      ],
      "metadata": {
        "colab": {
          "base_uri": "https://localhost:8080/"
        },
        "collapsed": true,
        "id": "G24HOKqR4sNd",
        "outputId": "316cc72f-8ae7-4a1f-bce1-245afe6f295d"
      },
      "execution_count": 7,
      "outputs": [
        {
          "output_type": "stream",
          "name": "stdout",
          "text": [
            "count(distinct AlbumID)\n",
            "-----------------------\n",
            "347                    \n"
          ]
        }
      ]
    },
    {
      "cell_type": "code",
      "source": [
        "# Count of number of countries that have records\n",
        "%%script sqlite3 --column --header chinook.db\n",
        "select count(distinct BillingCity)\n",
        "from invoices\n",
        ";"
      ],
      "metadata": {
        "colab": {
          "base_uri": "https://localhost:8080/"
        },
        "id": "W8BQFtHNE83r",
        "outputId": "f7744c66-793b-406f-d802-9ec3abc85403"
      },
      "execution_count": 8,
      "outputs": [
        {
          "output_type": "stream",
          "name": "stdout",
          "text": [
            "count(distinct BillingCity)\n",
            "---------------------------\n",
            "53                         \n"
          ]
        }
      ]
    },
    {
      "cell_type": "code",
      "source": [
        "# Count of countries of the customers\n",
        "%%script sqlite3 --column --header chinook.db\n",
        "select count(distinct Country)\n",
        "from customers\n",
        ";"
      ],
      "metadata": {
        "colab": {
          "base_uri": "https://localhost:8080/"
        },
        "id": "C-QHffkOFit1",
        "outputId": "15fa4cd6-735a-453b-8af3-5a39c44bed9c"
      },
      "execution_count": 9,
      "outputs": [
        {
          "output_type": "stream",
          "name": "stdout",
          "text": [
            "count(distinct Country)\n",
            "-----------------------\n",
            "24                     \n"
          ]
        }
      ]
    },
    {
      "cell_type": "markdown",
      "source": [
        "## Come up with questions about your data\n",
        "Have a look at the Entity-Relation ( ER ) diagram to help come up with questions.\n",
        "\n",
        "* What sort of information is in this dataset?\n",
        "* How many records are there?\n",
        "* How many different countries (states, counties, cities, etc) have records in this data set?\n",
        "\n",
        "\n",
        "If you are stuck, here are some ideas for questions:\n",
        "- https://github.com/LucasMcL/15-sql_queries_02-chinook/blob/master/README.md\n",
        "- [Using the R language]( https://rpubs.com/enext777/636199 )\n",
        "- [Search Google]( https://www.google.com/search?q=chinook+database+questions )\n",
        "\n"
      ],
      "metadata": {
        "id": "OA9Mp38s52x2"
      }
    },
    {
      "cell_type": "code",
      "source": [
        "# What sort of information is in this dataset?\n",
        "# There is information about the relation between employees, customers, invoices, albums, artists,\n",
        "# tracks, playlists, and genres within the ER diagram. There is also the names and ID numbers of\n",
        "# the different objects within each table.\n",
        "\n",
        "# How many records are there?\n",
        "# 347 unique albums\n",
        "\n",
        "# How many different countries (states, counties, cities, etc) have records in this data set?\n",
        "# 53 unique cities from invoices\n",
        "# 24 unique countries from customers"
      ],
      "metadata": {
        "id": "lEAv-WRmy1bN"
      },
      "execution_count": 10,
      "outputs": []
    },
    {
      "cell_type": "markdown",
      "source": [
        "## Use SQL queries to pull specific information\n",
        "\n",
        "Do NOT pull all the data and then filter using DataFrame methods etc. Make sure and use AT LEAST 13 of the 15 SQL options listed below. (You may have to get creative and come up with more questions to ask/answer.)\n"
      ],
      "metadata": {
        "id": "TqvaIfog546s"
      }
    },
    {
      "cell_type": "markdown",
      "source": [
        "### Basic Queries\n"
      ],
      "metadata": {
        "id": "borajWvCtRtl"
      }
    },
    {
      "cell_type": "markdown",
      "source": [
        "#### SELECT (with * and with column names)\n"
      ],
      "metadata": {
        "id": "gIEIK51EthwM"
      }
    },
    {
      "cell_type": "code",
      "source": [
        "# What are the first 10 entries from the albums table?\n",
        "%%script sqlite3 --column --header chinook.db\n",
        "select *\n",
        "from albums\n",
        "limit 10\n",
        ";"
      ],
      "metadata": {
        "id": "YmICVUnVuBSQ",
        "colab": {
          "base_uri": "https://localhost:8080/"
        },
        "collapsed": true,
        "outputId": "fbe4f7c3-c346-4bad-c123-73f60cf93ab5"
      },
      "execution_count": 11,
      "outputs": [
        {
          "output_type": "stream",
          "name": "stdout",
          "text": [
            "AlbumId  Title                                  ArtistId\n",
            "-------  -------------------------------------  --------\n",
            "1        For Those About To Rock We Salute You  1       \n",
            "2        Balls to the Wall                      2       \n",
            "3        Restless and Wild                      2       \n",
            "4        Let There Be Rock                      1       \n",
            "5        Big Ones                               3       \n",
            "6        Jagged Little Pill                     4       \n",
            "7        Facelift                               5       \n",
            "8        Warner 25 Anos                         6       \n",
            "9        Plays Metallica By Four Cellos         7       \n",
            "10       Audioslave                             8       \n"
          ]
        }
      ]
    },
    {
      "cell_type": "code",
      "source": [
        "# What are the names of the countries that the customers are from?\n",
        "%%script sqlite3 --column --header chinook.db\n",
        "select distinct Country\n",
        "from Customers\n",
        ";"
      ],
      "metadata": {
        "id": "NMrvo0jE6LL9",
        "colab": {
          "base_uri": "https://localhost:8080/"
        },
        "outputId": "1c5c3f3b-2c0d-4041-d785-f8ca81828cb1"
      },
      "execution_count": 12,
      "outputs": [
        {
          "output_type": "stream",
          "name": "stdout",
          "text": [
            "Country       \n",
            "--------------\n",
            "Brazil        \n",
            "Germany       \n",
            "Canada        \n",
            "Norway        \n",
            "Czech Republic\n",
            "Austria       \n",
            "Belgium       \n",
            "Denmark       \n",
            "USA           \n",
            "Portugal      \n",
            "France        \n",
            "Finland       \n",
            "Hungary       \n",
            "Ireland       \n",
            "Italy         \n",
            "Netherlands   \n",
            "Poland        \n",
            "Spain         \n",
            "Sweden        \n",
            "United Kingdom\n",
            "Australia     \n",
            "Argentina     \n",
            "Chile         \n",
            "India         \n"
          ]
        }
      ]
    },
    {
      "cell_type": "code",
      "source": [
        "# Join the artists with their albums, show Name Title and Artist ID from artist and albums tables\n",
        "# could swap lines 5&6 with lines 7&8 but it makes it harder to read\n",
        "# L join to find artists that do not have albums, 1 to many relationship always use L join\n",
        "%%script sqlite3 --column --header chinook.db\n",
        "select artists.Name, artists.ArtistID, albums.ArtistID, albums.Title, albums.AlbumID, tracks.AlbumID, tracks.*\n",
        "from artists\n",
        "join albums\n",
        "  on artists.ArtistID = albums.ArtistID\n",
        "join tracks\n",
        "  on albums.AlbumID = tracks.AlbumID\n",
        "limit 20\n",
        ";"
      ],
      "metadata": {
        "colab": {
          "base_uri": "https://localhost:8080/"
        },
        "id": "WdnAZdJJr5QK",
        "outputId": "715545c3-b763-41d7-9b72-4c77b822ebbd"
      },
      "execution_count": 13,
      "outputs": [
        {
          "output_type": "stream",
          "name": "stdout",
          "text": [
            "Name    ArtistId  ArtistId  Title                                  AlbumId  AlbumId  TrackId  Name                                     AlbumId  MediaTypeId  GenreId  Composer                                                                Milliseconds  Bytes     UnitPrice\n",
            "------  --------  --------  -------------------------------------  -------  -------  -------  ---------------------------------------  -------  -----------  -------  ----------------------------------------------------------------------  ------------  --------  ---------\n",
            "AC/DC   1         1         For Those About To Rock We Salute You  1        1        1        For Those About To Rock (We Salute You)  1        1            1        Angus Young, Malcolm Young, Brian Johnson                               343719        11170334  0.99     \n",
            "AC/DC   1         1         For Those About To Rock We Salute You  1        1        6        Put The Finger On You                    1        1            1        Angus Young, Malcolm Young, Brian Johnson                               205662        6713451   0.99     \n",
            "AC/DC   1         1         For Those About To Rock We Salute You  1        1        7        Let's Get It Up                          1        1            1        Angus Young, Malcolm Young, Brian Johnson                               233926        7636561   0.99     \n",
            "AC/DC   1         1         For Those About To Rock We Salute You  1        1        8        Inject The Venom                         1        1            1        Angus Young, Malcolm Young, Brian Johnson                               210834        6852860   0.99     \n",
            "AC/DC   1         1         For Those About To Rock We Salute You  1        1        9        Snowballed                               1        1            1        Angus Young, Malcolm Young, Brian Johnson                               203102        6599424   0.99     \n",
            "AC/DC   1         1         For Those About To Rock We Salute You  1        1        10       Evil Walks                               1        1            1        Angus Young, Malcolm Young, Brian Johnson                               263497        8611245   0.99     \n",
            "AC/DC   1         1         For Those About To Rock We Salute You  1        1        11       C.O.D.                                   1        1            1        Angus Young, Malcolm Young, Brian Johnson                               199836        6566314   0.99     \n",
            "AC/DC   1         1         For Those About To Rock We Salute You  1        1        12       Breaking The Rules                       1        1            1        Angus Young, Malcolm Young, Brian Johnson                               263288        8596840   0.99     \n",
            "AC/DC   1         1         For Those About To Rock We Salute You  1        1        13       Night Of The Long Knives                 1        1            1        Angus Young, Malcolm Young, Brian Johnson                               205688        6706347   0.99     \n",
            "AC/DC   1         1         For Those About To Rock We Salute You  1        1        14       Spellbound                               1        1            1        Angus Young, Malcolm Young, Brian Johnson                               270863        8817038   0.99     \n",
            "Accept  2         2         Balls to the Wall                      2        2        2        Balls to the Wall                        2        2            1                                                                                342562        5510424   0.99     \n",
            "Accept  2         2         Restless and Wild                      3        3        3        Fast As a Shark                          3        2            1        F. Baltes, S. Kaufman, U. Dirkscneider & W. Hoffman                     230619        3990994   0.99     \n",
            "Accept  2         2         Restless and Wild                      3        3        4        Restless and Wild                        3        2            1        F. Baltes, R.A. Smith-Diesel, S. Kaufman, U. Dirkscneider & W. Hoffman  252051        4331779   0.99     \n",
            "Accept  2         2         Restless and Wild                      3        3        5        Princess of the Dawn                     3        2            1        Deaffy & R.A. Smith-Diesel                                              375418        6290521   0.99     \n",
            "AC/DC   1         1         Let There Be Rock                      4        4        15       Go Down                                  4        1            1        AC/DC                                                                   331180        10847611  0.99     \n",
            "AC/DC   1         1         Let There Be Rock                      4        4        16       Dog Eat Dog                              4        1            1        AC/DC                                                                   215196        7032162   0.99     \n",
            "AC/DC   1         1         Let There Be Rock                      4        4        17       Let There Be Rock                        4        1            1        AC/DC                                                                   366654        12021261  0.99     \n",
            "AC/DC   1         1         Let There Be Rock                      4        4        18       Bad Boy Boogie                           4        1            1        AC/DC                                                                   267728        8776140   0.99     \n",
            "AC/DC   1         1         Let There Be Rock                      4        4        19       Problem Child                            4        1            1        AC/DC                                                                   325041        10617116  0.99     \n",
            "AC/DC   1         1         Let There Be Rock                      4        4        20       Overdose                                 4        1            1        AC/DC                                                                   369319        12066294  0.99     \n"
          ]
        }
      ]
    },
    {
      "cell_type": "code",
      "source": [
        "# Join the artists with their albums, show Name Title and Artist ID from artist and albums tables\n",
        "%%script sqlite3 --column --header chinook.db\n",
        "select artists.Name, albums.Title, artists.ArtistID, albums.AlbumID\n",
        "from artists\n",
        "join albums\n",
        "  on artists.ArtistID = albums.ArtistID\n",
        "join tracks\n",
        "  on albums.AlbumID = tracks.AlbumID\n",
        "limit 5\n",
        ";\n",
        "--select *\n",
        "--from tacks\n",
        "--limit 5"
      ],
      "metadata": {
        "colab": {
          "base_uri": "https://localhost:8080/"
        },
        "id": "4WytEENtt5om",
        "outputId": "8d7cb8c8-80ae-4ef1-b8d2-928fcc8021d4"
      },
      "execution_count": 14,
      "outputs": [
        {
          "output_type": "stream",
          "name": "stdout",
          "text": [
            "Name   Title                                  ArtistId  AlbumId\n",
            "-----  -------------------------------------  --------  -------\n",
            "AC/DC  For Those About To Rock We Salute You  1         1      \n",
            "AC/DC  For Those About To Rock We Salute You  1         1      \n",
            "AC/DC  For Those About To Rock We Salute You  1         1      \n",
            "AC/DC  For Those About To Rock We Salute You  1         1      \n",
            "AC/DC  For Those About To Rock We Salute You  1         1      \n"
          ]
        }
      ]
    },
    {
      "cell_type": "markdown",
      "source": [
        "#### WHERE\n"
      ],
      "metadata": {
        "id": "dRvXfTGEtkdQ"
      }
    },
    {
      "cell_type": "code",
      "source": [
        "# What are Audioslaves album names?\n",
        "%%script sqlite3 --column --header chinook.db\n",
        "select *\n",
        "from artists\n",
        "join albums\n",
        "on artists.ArtistID = albums.ArtistID\n",
        "where Name = 'Audioslave'\n",
        ";"
      ],
      "metadata": {
        "id": "0oNobfUnt_4Z",
        "colab": {
          "base_uri": "https://localhost:8080/"
        },
        "collapsed": true,
        "outputId": "cc401bd5-2bb9-4464-db3b-d23e73e7dcd2"
      },
      "execution_count": 15,
      "outputs": [
        {
          "output_type": "stream",
          "name": "stdout",
          "text": [
            "ArtistId  Name        AlbumId  Title         ArtistId\n",
            "--------  ----------  -------  ------------  --------\n",
            "8         Audioslave  10       Audioslave    8       \n",
            "8         Audioslave  11       Out Of Exile  8       \n",
            "8         Audioslave  271      Revelations   8       \n"
          ]
        }
      ]
    },
    {
      "cell_type": "markdown",
      "source": [
        "#### AND\n"
      ],
      "metadata": {
        "id": "u5y_3d4GtlqN"
      }
    },
    {
      "cell_type": "code",
      "source": [
        "# Who are the customers from Brazil with 3 as Support Rep ID?\n",
        "%%script sqlite3 --column --header chinook.db\n",
        "select *\n",
        "from customers\n",
        "where country = 'Brazil'\n",
        "and SupportRepID = 3\n",
        ";"
      ],
      "metadata": {
        "id": "H1tgAAFtt_Yy",
        "collapsed": true,
        "colab": {
          "base_uri": "https://localhost:8080/"
        },
        "outputId": "bf75b12c-3a26-4ae8-ef8a-d627552b5668"
      },
      "execution_count": 16,
      "outputs": [
        {
          "output_type": "stream",
          "name": "stdout",
          "text": [
            "CustomerId  FirstName  LastName   Company                                           Address                          City                 State  Country  PostalCode  Phone               Fax                 Email                          SupportRepId\n",
            "----------  ---------  ---------  ------------------------------------------------  -------------------------------  -------------------  -----  -------  ----------  ------------------  ------------------  -----------------------------  ------------\n",
            "1           Luís       Gonçalves  Embraer - Empresa Brasileira de Aeronáutica S.A.  Av. Brigadeiro Faria Lima, 2170  São José dos Campos  SP     Brazil   12227-000   +55 (12) 3923-5555  +55 (12) 3923-5566  luisg@embraer.com.br           3           \n",
            "12          Roberto    Almeida    Riotur                                            Praça Pio X, 119                 Rio de Janeiro       RJ     Brazil   20040-020   +55 (21) 2271-7000  +55 (21) 2271-7070  roberto.almeida@riotur.gov.br  3           \n"
          ]
        }
      ]
    },
    {
      "cell_type": "markdown",
      "source": [
        "#### OR\n"
      ],
      "metadata": {
        "id": "fddyzEAetnzB"
      }
    },
    {
      "cell_type": "code",
      "source": [
        "# Who are the customers from Argentina and Brazil?\n",
        "%%script sqlite3 --column --header chinook.db\n",
        "select *\n",
        "from customers\n",
        "where country = 'Argentina'\n",
        "or country = 'Brazil'\n",
        ";"
      ],
      "metadata": {
        "id": "HAg8LDQ3t-yr",
        "collapsed": true,
        "colab": {
          "base_uri": "https://localhost:8080/"
        },
        "outputId": "e66bfdf7-17a7-4286-f395-d0c1ebd619a4"
      },
      "execution_count": 17,
      "outputs": [
        {
          "output_type": "stream",
          "name": "stdout",
          "text": [
            "CustomerId  FirstName  LastName   Company                                           Address                          City                 State  Country    PostalCode  Phone                Fax                 Email                          SupportRepId\n",
            "----------  ---------  ---------  ------------------------------------------------  -------------------------------  -------------------  -----  ---------  ----------  -------------------  ------------------  -----------------------------  ------------\n",
            "1           Luís       Gonçalves  Embraer - Empresa Brasileira de Aeronáutica S.A.  Av. Brigadeiro Faria Lima, 2170  São José dos Campos  SP     Brazil     12227-000   +55 (12) 3923-5555   +55 (12) 3923-5566  luisg@embraer.com.br           3           \n",
            "10          Eduardo    Martins    Woodstock Discos                                  Rua Dr. Falcão Filho, 155        São Paulo            SP     Brazil     01007-010   +55 (11) 3033-5446   +55 (11) 3033-4564  eduardo@woodstock.com.br       4           \n",
            "11          Alexandre  Rocha      Banco do Brasil S.A.                              Av. Paulista, 2022               São Paulo            SP     Brazil     01310-200   +55 (11) 3055-3278   +55 (11) 3055-8131  alero@uol.com.br               5           \n",
            "12          Roberto    Almeida    Riotur                                            Praça Pio X, 119                 Rio de Janeiro       RJ     Brazil     20040-020   +55 (21) 2271-7000   +55 (21) 2271-7070  roberto.almeida@riotur.gov.br  3           \n",
            "13          Fernanda   Ramos                                                        Qe 7 Bloco G                     Brasília             DF     Brazil     71020-677   +55 (61) 3363-5547   +55 (61) 3363-7855  fernadaramos4@uol.com.br       4           \n",
            "56          Diego      Gutiérrez                                                    307 Macacha Güemes               Buenos Aires                Argentina  1106        +54 (0)11 4311 4333                      diego.gutierrez@yahoo.ar       4           \n"
          ]
        }
      ]
    },
    {
      "cell_type": "markdown",
      "source": [
        "#### LIKE (with % or _ wildcard)\n"
      ],
      "metadata": {
        "id": "-csoeatGtpRq"
      }
    },
    {
      "cell_type": "code",
      "source": [
        "# Who are the customers with a first name that starts with the letter A?\n",
        "%%script sqlite3 --column --header chinook.db\n",
        "select *\n",
        "from customers\n",
        "where FirstName like 'A%'\n",
        ";"
      ],
      "metadata": {
        "id": "CixJguOYuw49",
        "colab": {
          "base_uri": "https://localhost:8080/"
        },
        "outputId": "cfe07b80-a43f-4e97-daea-2c40bbb91094"
      },
      "execution_count": 18,
      "outputs": [
        {
          "output_type": "stream",
          "name": "stdout",
          "text": [
            "CustomerId  FirstName  LastName  Company               Address                               City       State  Country  PostalCode  Phone               Fax                 Email                   SupportRepId\n",
            "----------  ---------  --------  --------------------  ------------------------------------  ---------  -----  -------  ----------  ------------------  ------------------  ----------------------  ------------\n",
            "7           Astrid     Gruber                          Rotenturmstraße 4, 1010 Innere Stadt  Vienne            Austria  1010        +43 01 5134505                          astrid.gruber@apple.at  5           \n",
            "11          Alexandre  Rocha     Banco do Brasil S.A.  Av. Paulista, 2022                    São Paulo  SP     Brazil   01310-200   +55 (11) 3055-3278  +55 (11) 3055-8131  alero@uol.com.br        5           \n",
            "32          Aaron      Mitchell                        696 Osborne Street                    Winnipeg   MB     Canada   R3L 2B9     +1 (204) 452-6452                       aaronmitchell@yahoo.ca  4           \n"
          ]
        }
      ]
    },
    {
      "cell_type": "code",
      "source": [
        "# Who are the customers that are from countries that end in the letter A?\n",
        "%%script sqlite3 --column --header chinook.db\n",
        "select *\n",
        "from customers\n",
        "where Country like '%a'\n",
        ";"
      ],
      "metadata": {
        "id": "N6q2ZsUw26wO",
        "colab": {
          "base_uri": "https://localhost:8080/"
        },
        "outputId": "616a96bf-1989-4bd1-b5c0-a8a1ebd7fd18"
      },
      "execution_count": 19,
      "outputs": [
        {
          "output_type": "stream",
          "name": "stdout",
          "text": [
            "CustomerId  FirstName  LastName    Company                Address                               City            State  Country    PostalCode  Phone                Fax                Email                     SupportRepId\n",
            "----------  ---------  ----------  ---------------------  ------------------------------------  --------------  -----  ---------  ----------  -------------------  -----------------  ------------------------  ------------\n",
            "3           François   Tremblay                           1498 rue Bélanger                     Montréal        QC     Canada     H2G 1A7     +1 (514) 721-4711                       ftremblay@gmail.com       3           \n",
            "7           Astrid     Gruber                             Rotenturmstraße 4, 1010 Innere Stadt  Vienne                 Austria    1010        +43 01 5134505                          astrid.gruber@apple.at    5           \n",
            "14          Mark       Philips     Telus                  8210 111 ST NW                        Edmonton        AB     Canada     T6G 2C7     +1 (780) 434-4554    +1 (780) 434-5565  mphilips12@shaw.ca        5           \n",
            "15          Jennifer   Peterson    Rogers Canada          700 W Pender Street                   Vancouver       BC     Canada     V6C 1G8     +1 (604) 688-2255    +1 (604) 688-8756  jenniferp@rogers.ca       3           \n",
            "16          Frank      Harris      Google Inc.            1600 Amphitheatre Parkway             Mountain View   CA     USA        94043-1351  +1 (650) 253-0000    +1 (650) 253-0000  fharris@google.com        4           \n",
            "17          Jack       Smith       Microsoft Corporation  1 Microsoft Way                       Redmond         WA     USA        98052-8300  +1 (425) 882-8080    +1 (425) 882-8081  jacksmith@microsoft.com   5           \n",
            "18          Michelle   Brooks                             627 Broadway                          New York        NY     USA        10012-2612  +1 (212) 221-3546    +1 (212) 221-4679  michelleb@aol.com         3           \n",
            "19          Tim        Goyer       Apple Inc.             1 Infinite Loop                       Cupertino       CA     USA        95014       +1 (408) 996-1010    +1 (408) 996-1011  tgoyer@apple.com          3           \n",
            "20          Dan        Miller                             541 Del Medio Avenue                  Mountain View   CA     USA        94040-111   +1 (650) 644-3358                       dmiller@comcast.com       4           \n",
            "21          Kathy      Chase                              801 W 4th Street                      Reno            NV     USA        89503       +1 (775) 223-7665                       kachase@hotmail.com       5           \n",
            "22          Heather    Leacock                            120 S Orange Ave                      Orlando         FL     USA        32801       +1 (407) 999-7788                       hleacock@gmail.com        4           \n",
            "23          John       Gordon                             69 Salem Street                       Boston          MA     USA        2113        +1 (617) 522-1333                       johngordon22@yahoo.com    4           \n",
            "24          Frank      Ralston                            162 E Superior Street                 Chicago         IL     USA        60611       +1 (312) 332-3232                       fralston@gmail.com        3           \n",
            "25          Victor     Stevens                            319 N. Frances Street                 Madison         WI     USA        53703       +1 (608) 257-0597                       vstevens@yahoo.com        5           \n",
            "26          Richard    Cunningham                         2211 W Berry Street                   Fort Worth      TX     USA        76110       +1 (817) 924-7272                       ricunningham@hotmail.com  4           \n",
            "27          Patrick    Gray                               1033 N Park Ave                       Tucson          AZ     USA        85719       +1 (520) 622-4200                       patrick.gray@aol.com      4           \n",
            "28          Julia      Barnett                            302 S 700 E                           Salt Lake City  UT     USA        84102       +1 (801) 531-7272                       jubarnett@gmail.com       5           \n",
            "29          Robert     Brown                              796 Dundas Street West                Toronto         ON     Canada     M6J 1V1     +1 (416) 363-8888                       robbrown@shaw.ca          3           \n",
            "30          Edward     Francis                            230 Elgin Street                      Ottawa          ON     Canada     K2P 1L7     +1 (613) 234-3322                       edfrancis@yachoo.ca       3           \n",
            "31          Martha     Silk                               194A Chain Lake Drive                 Halifax         NS     Canada     B3S 1C5     +1 (902) 450-0450                       marthasilk@gmail.com      5           \n",
            "32          Aaron      Mitchell                           696 Osborne Street                    Winnipeg        MB     Canada     R3L 2B9     +1 (204) 452-6452                       aaronmitchell@yahoo.ca    4           \n",
            "33          Ellie      Sullivan                           5112 48 Street                        Yellowknife     NT     Canada     X1A 1N6     +1 (867) 920-2233                       ellie.sullivan@shaw.ca    3           \n",
            "55          Mark       Taylor                             421 Bourke Street                     Sidney          NSW    Australia  2010        +61 (02) 9332 3633                      mark.taylor@yahoo.au      4           \n",
            "56          Diego      Gutiérrez                          307 Macacha Güemes                    Buenos Aires           Argentina  1106        +54 (0)11 4311 4333                     diego.gutierrez@yahoo.ar  4           \n",
            "58          Manoj      Pareek                             12,Community Centre                   Delhi                  India      110017      +91 0124 39883988                       manoj.pareek@rediff.com   3           \n",
            "59          Puja       Srivastava                         3,Raj Bhavan Road                     Bangalore              India      560001      +91 080 22289999                        puja_srivastava@yahoo.in  3           \n"
          ]
        }
      ]
    },
    {
      "cell_type": "markdown",
      "source": [
        "#### BETWEEN\n"
      ],
      "metadata": {
        "id": "BV8kQ-9FtqGY"
      }
    },
    {
      "cell_type": "code",
      "source": [
        "# What are the InvoiceID's that are between 25 and 35 in invoice_items?\n",
        "%%script sqlite3 --column --header chinook.db\n",
        "select *\n",
        "from invoice_items\n",
        "where InvoiceID between 25 and 35\n",
        ";"
      ],
      "metadata": {
        "id": "AAMkUyW6t9IR",
        "collapsed": true,
        "colab": {
          "base_uri": "https://localhost:8080/"
        },
        "outputId": "b0d8c2ea-cb07-4947-e33a-b563a3eb9075"
      },
      "execution_count": 20,
      "outputs": [
        {
          "output_type": "stream",
          "name": "stdout",
          "text": [
            "InvoiceLineId  InvoiceId  TrackId  UnitPrice  Quantity\n",
            "-------------  ---------  -------  ---------  --------\n",
            "127            25         738      0.99       1       \n",
            "128            25         744      0.99       1       \n",
            "129            25         750      0.99       1       \n",
            "130            25         756      0.99       1       \n",
            "131            25         762      0.99       1       \n",
            "132            25         768      0.99       1       \n",
            "133            25         774      0.99       1       \n",
            "134            25         780      0.99       1       \n",
            "135            25         786      0.99       1       \n",
            "136            26         795      0.99       1       \n",
            "137            26         804      0.99       1       \n",
            "138            26         813      0.99       1       \n",
            "139            26         822      0.99       1       \n",
            "140            26         831      0.99       1       \n",
            "141            26         840      0.99       1       \n",
            "142            26         849      0.99       1       \n",
            "143            26         858      0.99       1       \n",
            "144            26         867      0.99       1       \n",
            "145            26         876      0.99       1       \n",
            "146            26         885      0.99       1       \n",
            "147            26         894      0.99       1       \n",
            "148            26         903      0.99       1       \n",
            "149            26         912      0.99       1       \n",
            "150            27         926      0.99       1       \n",
            "151            28         927      0.99       1       \n",
            "152            28         928      0.99       1       \n",
            "153            29         930      0.99       1       \n",
            "154            29         932      0.99       1       \n",
            "155            30         934      0.99       1       \n",
            "156            30         936      0.99       1       \n",
            "157            30         938      0.99       1       \n",
            "158            30         940      0.99       1       \n",
            "159            31         944      0.99       1       \n",
            "160            31         948      0.99       1       \n",
            "161            31         952      0.99       1       \n",
            "162            31         956      0.99       1       \n",
            "163            31         960      0.99       1       \n",
            "164            31         964      0.99       1       \n",
            "165            32         970      0.99       1       \n",
            "166            32         976      0.99       1       \n",
            "167            32         982      0.99       1       \n",
            "168            32         988      0.99       1       \n",
            "169            32         994      0.99       1       \n",
            "170            32         1000     0.99       1       \n",
            "171            32         1006     0.99       1       \n",
            "172            32         1012     0.99       1       \n",
            "173            32         1018     0.99       1       \n",
            "174            33         1027     0.99       1       \n",
            "175            33         1036     0.99       1       \n",
            "176            33         1045     0.99       1       \n",
            "177            33         1054     0.99       1       \n",
            "178            33         1063     0.99       1       \n",
            "179            33         1072     0.99       1       \n",
            "180            33         1081     0.99       1       \n",
            "181            33         1090     0.99       1       \n",
            "182            33         1099     0.99       1       \n",
            "183            33         1108     0.99       1       \n",
            "184            33         1117     0.99       1       \n",
            "185            33         1126     0.99       1       \n",
            "186            33         1135     0.99       1       \n",
            "187            33         1144     0.99       1       \n",
            "188            34         1158     0.99       1       \n",
            "189            35         1159     0.99       1       \n",
            "190            35         1160     0.99       1       \n"
          ]
        }
      ]
    },
    {
      "cell_type": "markdown",
      "source": [
        "#### LIMIT\n",
        "\n"
      ],
      "metadata": {
        "id": "3BqrCUPBtqpX"
      }
    },
    {
      "cell_type": "code",
      "source": [
        "# What are the first 10 items in invoice_items that have a unit price of 1.99?\n",
        "%%script sqlite3 --column --header chinook.db\n",
        "select *\n",
        "from invoice_items\n",
        "where UnitPrice = 1.99\n",
        "limit 10\n",
        ";"
      ],
      "metadata": {
        "id": "UB3EyaRRt9ki",
        "collapsed": true,
        "colab": {
          "base_uri": "https://localhost:8080/"
        },
        "outputId": "e7b8e5ad-27f6-4d06-d85b-547794274e44"
      },
      "execution_count": 21,
      "outputs": [
        {
          "output_type": "stream",
          "name": "stdout",
          "text": [
            "InvoiceLineId  InvoiceId  TrackId  UnitPrice  Quantity\n",
            "-------------  ---------  -------  ---------  --------\n",
            "468            87         2820     1.99       1       \n",
            "469            88         2826     1.99       1       \n",
            "470            88         2832     1.99       1       \n",
            "471            88         2838     1.99       1       \n",
            "472            88         2844     1.99       1       \n",
            "473            88         2850     1.99       1       \n",
            "474            88         2856     1.99       1       \n",
            "475            88         2862     1.99       1       \n",
            "476            88         2868     1.99       1       \n",
            "477            88         2874     1.99       1       \n"
          ]
        }
      ]
    },
    {
      "cell_type": "markdown",
      "source": [
        "### Sorting and Grouping\n"
      ],
      "metadata": {
        "id": "a4DtPW7ytrU7"
      }
    },
    {
      "cell_type": "markdown",
      "source": [
        "#### ORDER BY\n"
      ],
      "metadata": {
        "id": "SneUyw4Xtr-U"
      }
    },
    {
      "cell_type": "code",
      "source": [
        "# Order customers from Argentina and Brazil by their SupportRepID\n",
        "%%script sqlite3 --column --header chinook.db\n",
        "select *\n",
        "from customers\n",
        "where country = 'Argentina'\n",
        "or country = 'Brazil'\n",
        "order by SupportRepID\n",
        ";"
      ],
      "metadata": {
        "id": "29jQ-pBFt7uf",
        "colab": {
          "base_uri": "https://localhost:8080/"
        },
        "outputId": "1b149e59-d5c8-4e2d-932f-b812dab42d88"
      },
      "execution_count": 22,
      "outputs": [
        {
          "output_type": "stream",
          "name": "stdout",
          "text": [
            "CustomerId  FirstName  LastName   Company                                           Address                          City                 State  Country    PostalCode  Phone                Fax                 Email                          SupportRepId\n",
            "----------  ---------  ---------  ------------------------------------------------  -------------------------------  -------------------  -----  ---------  ----------  -------------------  ------------------  -----------------------------  ------------\n",
            "1           Luís       Gonçalves  Embraer - Empresa Brasileira de Aeronáutica S.A.  Av. Brigadeiro Faria Lima, 2170  São José dos Campos  SP     Brazil     12227-000   +55 (12) 3923-5555   +55 (12) 3923-5566  luisg@embraer.com.br           3           \n",
            "12          Roberto    Almeida    Riotur                                            Praça Pio X, 119                 Rio de Janeiro       RJ     Brazil     20040-020   +55 (21) 2271-7000   +55 (21) 2271-7070  roberto.almeida@riotur.gov.br  3           \n",
            "10          Eduardo    Martins    Woodstock Discos                                  Rua Dr. Falcão Filho, 155        São Paulo            SP     Brazil     01007-010   +55 (11) 3033-5446   +55 (11) 3033-4564  eduardo@woodstock.com.br       4           \n",
            "13          Fernanda   Ramos                                                        Qe 7 Bloco G                     Brasília             DF     Brazil     71020-677   +55 (61) 3363-5547   +55 (61) 3363-7855  fernadaramos4@uol.com.br       4           \n",
            "56          Diego      Gutiérrez                                                    307 Macacha Güemes               Buenos Aires                Argentina  1106        +54 (0)11 4311 4333                      diego.gutierrez@yahoo.ar       4           \n",
            "11          Alexandre  Rocha      Banco do Brasil S.A.                              Av. Paulista, 2022               São Paulo            SP     Brazil     01310-200   +55 (11) 3055-3278   +55 (11) 3055-8131  alero@uol.com.br               5           \n"
          ]
        }
      ]
    },
    {
      "cell_type": "markdown",
      "source": [
        "#### DISTINCT\n"
      ],
      "metadata": {
        "id": "Y22yRW5Wtsl1"
      }
    },
    {
      "cell_type": "code",
      "source": [
        "# How many distinct GenreID's are there in tracks?\n",
        "%%script sqlite3 --column --header chinook.db\n",
        "select count(distinct GenreID)\n",
        "from tracks\n",
        ";"
      ],
      "metadata": {
        "id": "RGkf7Qh1t7Cm",
        "colab": {
          "base_uri": "https://localhost:8080/"
        },
        "outputId": "d0fa46b8-e1ed-4600-a476-c36fc7b00422"
      },
      "execution_count": 23,
      "outputs": [
        {
          "output_type": "stream",
          "name": "stdout",
          "text": [
            "count(distinct GenreID)\n",
            "-----------------------\n",
            "25                     \n"
          ]
        }
      ]
    },
    {
      "cell_type": "markdown",
      "source": [
        "#### GROUP BY\n",
        "\n"
      ],
      "metadata": {
        "id": "Q0mwAOgettPz"
      }
    },
    {
      "cell_type": "code",
      "source": [
        "# Group Milliseconds, Bytes, TrackID, Name in tracks by Milliseconds\n",
        "%%script sqlite3 --column --header chinook.db\n",
        "select Milliseconds, Bytes, TrackID, Name\n",
        "from tracks\n",
        "group by Milliseconds\n",
        "limit 10\n",
        ";"
      ],
      "metadata": {
        "id": "8cv2_l-Lt6Wv",
        "colab": {
          "base_uri": "https://localhost:8080/"
        },
        "outputId": "22cb0ceb-d617-4f2f-f85c-4b75953febbc"
      },
      "execution_count": 24,
      "outputs": [
        {
          "output_type": "stream",
          "name": "stdout",
          "text": [
            "Milliseconds  Bytes    TrackId  Name                    \n",
            "------------  -------  -------  ------------------------\n",
            "1071          38747    2461     É Uma Partida De Futebol\n",
            "4884          161266   168      Now Sports              \n",
            "6373          211997   170      A Statistic             \n",
            "6635          224313   178      Oprah                   \n",
            "7941          319888   3304     Commercial 1            \n",
            "11650         387360   172      The Real Problem        \n",
            "21211         850698   3310     Commercial 2            \n",
            "29048         967098   2241     Bossa                   \n",
            "32287         1039615  1086     Casinha Feliz           \n",
            "33149         1103013  246      Mateus Enter            \n"
          ]
        }
      ]
    },
    {
      "cell_type": "code",
      "source": [
        "# Group Milliseconds, Bytes, TrackID, Name in tracks by Bytes\n",
        "%%script sqlite3 --column --header chinook.db\n",
        "select Milliseconds, Bytes, TrackID, Name\n",
        "from tracks\n",
        "group by Bytes\n",
        "limit 10\n",
        ";"
      ],
      "metadata": {
        "id": "3cg-ach4E5Yc",
        "colab": {
          "base_uri": "https://localhost:8080/"
        },
        "outputId": "42043a38-aa62-4f48-b889-6cc63803135a"
      },
      "execution_count": 25,
      "outputs": [
        {
          "output_type": "stream",
          "name": "stdout",
          "text": [
            "Milliseconds  Bytes    TrackId  Name                    \n",
            "------------  -------  -------  ------------------------\n",
            "1071          38747    2461     É Uma Partida De Futebol\n",
            "4884          161266   168      Now Sports              \n",
            "6373          211997   170      A Statistic             \n",
            "6635          224313   178      Oprah                   \n",
            "7941          319888   3304     Commercial 1            \n",
            "11650         387360   172      The Real Problem        \n",
            "21211         850698   3310     Commercial 2            \n",
            "29048         967098   2241     Bossa                   \n",
            "32287         1039615  1086     Casinha Feliz           \n",
            "33619         1095012  975      Deixa Entrar            \n"
          ]
        }
      ]
    },
    {
      "cell_type": "markdown",
      "source": [
        "### Aggregates\n"
      ],
      "metadata": {
        "id": "dJUO6Dh3tt5c"
      }
    },
    {
      "cell_type": "markdown",
      "source": [
        "#### MAX\n"
      ],
      "metadata": {
        "id": "spacz18MtvBo"
      }
    },
    {
      "cell_type": "code",
      "source": [
        "# What is the longest song from tracks?\n",
        "%%script sqlite3 --column --header chinook.db\n",
        "select max(Milliseconds)\n",
        "from tracks\n",
        ";"
      ],
      "metadata": {
        "id": "e8Ke_lJKt2VQ",
        "colab": {
          "base_uri": "https://localhost:8080/"
        },
        "outputId": "2f3d3b2b-5758-420e-980b-0d89900b42eb"
      },
      "execution_count": 26,
      "outputs": [
        {
          "output_type": "stream",
          "name": "stdout",
          "text": [
            "max(Milliseconds)\n",
            "-----------------\n",
            "5286953          \n"
          ]
        }
      ]
    },
    {
      "cell_type": "code",
      "source": [
        "# What is the largest song from tracks?\n",
        "%%script sqlite3 --column --header chinook.db\n",
        "select max(Bytes)\n",
        "from tracks\n",
        ";"
      ],
      "metadata": {
        "id": "MnyJJ79cJaLa",
        "colab": {
          "base_uri": "https://localhost:8080/"
        },
        "outputId": "936678c4-653e-4bbf-f5fc-7735341fee0b"
      },
      "execution_count": 27,
      "outputs": [
        {
          "output_type": "stream",
          "name": "stdout",
          "text": [
            "max(Bytes)\n",
            "----------\n",
            "1059546140\n"
          ]
        }
      ]
    },
    {
      "cell_type": "markdown",
      "source": [
        "#### MIN\n"
      ],
      "metadata": {
        "id": "V0z33BTztvoP"
      }
    },
    {
      "cell_type": "code",
      "source": [
        "# What is the shortest song from tracks?\n",
        "%%script sqlite3 --column --header chinook.db\n",
        "select min(Milliseconds)\n",
        "from tracks\n",
        ";"
      ],
      "metadata": {
        "id": "ishdZ9K3t1fh",
        "colab": {
          "base_uri": "https://localhost:8080/"
        },
        "outputId": "8594774d-029b-4ed0-9cb1-6fc8e17cddbe"
      },
      "execution_count": 28,
      "outputs": [
        {
          "output_type": "stream",
          "name": "stdout",
          "text": [
            "min(Milliseconds)\n",
            "-----------------\n",
            "1071             \n"
          ]
        }
      ]
    },
    {
      "cell_type": "code",
      "source": [
        "# What is the smallest song from tracks?\n",
        "%%script sqlite3 --column --header chinook.db\n",
        "select min(Bytes)\n",
        "from tracks\n",
        ";"
      ],
      "metadata": {
        "id": "zzNqAsUCJzAi",
        "colab": {
          "base_uri": "https://localhost:8080/"
        },
        "outputId": "5c5d2319-6ae1-4bf1-b083-68ccd7b23489"
      },
      "execution_count": 29,
      "outputs": [
        {
          "output_type": "stream",
          "name": "stdout",
          "text": [
            "min(Bytes)\n",
            "----------\n",
            "38747     \n"
          ]
        }
      ]
    },
    {
      "cell_type": "markdown",
      "source": [
        "#### SUM\n"
      ],
      "metadata": {
        "id": "nLYsB9M8twMf"
      }
    },
    {
      "cell_type": "code",
      "source": [
        "# What is the sum of invoices?\n",
        "%%script sqlite3 --column --header chinook.db\n",
        "select sum(total)\n",
        "from invoices\n",
        ";"
      ],
      "metadata": {
        "id": "aoVDwom0t0zN",
        "colab": {
          "base_uri": "https://localhost:8080/"
        },
        "outputId": "66a6c875-d0cd-4727-a33a-2fc437e92c03"
      },
      "execution_count": 30,
      "outputs": [
        {
          "output_type": "stream",
          "name": "stdout",
          "text": [
            "sum(total)\n",
            "----------\n",
            "2328.6    \n"
          ]
        }
      ]
    },
    {
      "cell_type": "code",
      "source": [
        "# What is the sum of the number of invoice items?\n",
        "%%script sqlite3 --column --header chinook.db\n",
        "select sum(quantity)\n",
        "from invoice_items\n",
        ";"
      ],
      "metadata": {
        "id": "DI0Ax12bLBh5",
        "colab": {
          "base_uri": "https://localhost:8080/"
        },
        "outputId": "61470b0a-8d7b-4c1d-9522-c5f266126d89"
      },
      "execution_count": 31,
      "outputs": [
        {
          "output_type": "stream",
          "name": "stdout",
          "text": [
            "sum(quantity)\n",
            "-------------\n",
            "2240         \n"
          ]
        }
      ]
    },
    {
      "cell_type": "code",
      "source": [
        "# What is the sum of UnitPrice in invoice_itmes?\n",
        "%%script sqlite3 --column --header chinook.db\n",
        "select sum(UnitPrice)\n",
        "from invoice_items\n",
        ";"
      ],
      "metadata": {
        "id": "qPJSrTK6LNnH",
        "colab": {
          "base_uri": "https://localhost:8080/"
        },
        "outputId": "1818d642-e910-45a6-a25d-9cd8be02edb6"
      },
      "execution_count": 32,
      "outputs": [
        {
          "output_type": "stream",
          "name": "stdout",
          "text": [
            "sum(UnitPrice)  \n",
            "----------------\n",
            "2328.59999999996\n"
          ]
        }
      ]
    },
    {
      "cell_type": "markdown",
      "source": [
        "#### AVG\n"
      ],
      "metadata": {
        "id": "0yI5K0Z5twwB"
      }
    },
    {
      "cell_type": "code",
      "source": [
        "# What is the average of UnitPrice in invoice_items?\n",
        "%%script sqlite3 --column --header chinook.db\n",
        "select avg(UnitPrice)\n",
        "from invoice_items\n",
        ";"
      ],
      "metadata": {
        "id": "HkNbzJ4mtzgD",
        "colab": {
          "base_uri": "https://localhost:8080/"
        },
        "outputId": "1ffd65a5-3596-4f69-dcf8-45b247df587a"
      },
      "execution_count": 33,
      "outputs": [
        {
          "output_type": "stream",
          "name": "stdout",
          "text": [
            "avg(UnitPrice)  \n",
            "----------------\n",
            "1.03955357142855\n"
          ]
        }
      ]
    },
    {
      "cell_type": "code",
      "source": [
        "# What is the average of Quantity in invoice_items?\n",
        "%%script sqlite3 --column --header chinook.db\n",
        "select avg(Quantity)\n",
        "from invoice_items\n",
        ";"
      ],
      "metadata": {
        "id": "sSl-K6ciLs6Z",
        "colab": {
          "base_uri": "https://localhost:8080/"
        },
        "outputId": "dc72cc7c-58ec-4d57-fdf9-d4eb0b714866"
      },
      "execution_count": 34,
      "outputs": [
        {
          "output_type": "stream",
          "name": "stdout",
          "text": [
            "avg(Quantity)\n",
            "-------------\n",
            "1.0          \n"
          ]
        }
      ]
    },
    {
      "cell_type": "code",
      "source": [
        "# What is the average time in tracks?\n",
        "%%script sqlite3 --column --header chinook.db\n",
        "select avg(Milliseconds)\n",
        "from tracks\n",
        ";"
      ],
      "metadata": {
        "id": "qvzNsx_cLzsh",
        "colab": {
          "base_uri": "https://localhost:8080/"
        },
        "outputId": "66b499ea-42a6-45d6-cce2-1e7dd07709ed"
      },
      "execution_count": 35,
      "outputs": [
        {
          "output_type": "stream",
          "name": "stdout",
          "text": [
            "avg(Milliseconds)\n",
            "-----------------\n",
            "393599.212103911 \n"
          ]
        }
      ]
    },
    {
      "cell_type": "code",
      "source": [
        "# What is the average size (in bytes) in tracks?\n",
        "%%script sqlite3 --column --header chinook.db\n",
        "select avg(Bytes)\n",
        "from tracks\n",
        ";"
      ],
      "metadata": {
        "id": "psIRQgvZL9TO",
        "colab": {
          "base_uri": "https://localhost:8080/"
        },
        "outputId": "d86f45a7-a570-4135-f742-a80fdf0c4c77"
      },
      "execution_count": 36,
      "outputs": [
        {
          "output_type": "stream",
          "name": "stdout",
          "text": [
            "avg(Bytes)      \n",
            "----------------\n",
            "33510207.0653725\n"
          ]
        }
      ]
    },
    {
      "cell_type": "markdown",
      "source": [
        "#### COUNT\n",
        "\n"
      ],
      "metadata": {
        "id": "JEkDbYyutxX5"
      }
    },
    {
      "cell_type": "code",
      "source": [
        "# How many unique albums are there?\n",
        "%%script sqlite3 --column --header chinook.db\n",
        "select count(distinct AlbumID)\n",
        "from tracks\n",
        ";"
      ],
      "metadata": {
        "id": "8slKgFpsuBCh",
        "colab": {
          "base_uri": "https://localhost:8080/"
        },
        "outputId": "1bfc12b0-cb46-4529-c934-ea9bbb471fdb"
      },
      "execution_count": 37,
      "outputs": [
        {
          "output_type": "stream",
          "name": "stdout",
          "text": [
            "count(distinct AlbumID)\n",
            "-----------------------\n",
            "347                    \n"
          ]
        }
      ]
    },
    {
      "cell_type": "code",
      "source": [
        "# How many countries are the customers from?\n",
        "%%script sqlite3 --column --header chinook.db\n",
        "select count(distinct Country)\n",
        "from customers\n",
        ";"
      ],
      "metadata": {
        "id": "6zjgf8tCqdLy",
        "colab": {
          "base_uri": "https://localhost:8080/"
        },
        "outputId": "d69c7bc5-7905-4f88-eb6b-cbd4ce34b854"
      },
      "execution_count": 38,
      "outputs": [
        {
          "output_type": "stream",
          "name": "stdout",
          "text": [
            "count(distinct Country)\n",
            "-----------------------\n",
            "24                     \n"
          ]
        }
      ]
    },
    {
      "cell_type": "markdown",
      "source": [
        "## Make some plots\n",
        "\n",
        "Make some cool plots to go with your data. Write SQL queries to get ONLY the information you need for each plot. (Don't pull ALL the data and then just plot a few columns.)\n",
        "\n"
      ],
      "metadata": {
        "id": "ntL8dHJT57K8"
      }
    },
    {
      "cell_type": "code",
      "source": [
        "# This whole section was inspired by Minerva and Wil\n",
        "\n",
        "import pandas as pd\n",
        "import sqlite3\n",
        "import matplotlib.pyplot as plt"
      ],
      "metadata": {
        "id": "ihpcPeR1p9zV"
      },
      "execution_count": 39,
      "outputs": []
    },
    {
      "cell_type": "code",
      "source": [
        "# Makes a chart of employee IDs, their name, and their total sales\n",
        "# Connect to the database\n",
        "chin = sqlite3.connect('chinook.db')\n",
        "# Define SQL query\n",
        "query = \"\"\"\n",
        "select\n",
        "  Employees.EmployeeID,\n",
        "  Employees.FirstName,\n",
        "  Employees.LastName,\n",
        "  sum(invoices.Total) as TotalSales\n",
        "from employees\n",
        "left join customers on EmployeeID = customers.SupportRepID\n",
        "left join invoices on customers.CustomerID = invoices.CustomerID\n",
        "group by Employees.EmployeeID, Employees.FirstName, Employees.LastName\n",
        "order by TotalSales desc\n",
        ";\n",
        "\"\"\"\n",
        "# Get query and store results in a data frame\n",
        "df = pd.read_sql_query(query, chin)\n",
        "# Close connection\n",
        "chin.close()\n",
        "# Print head of df\n",
        "print(df)#.head())"
      ],
      "metadata": {
        "id": "SZXIuqBX6L50",
        "colab": {
          "base_uri": "https://localhost:8080/"
        },
        "outputId": "1deb9a1e-694b-4249-f55c-37621431948d"
      },
      "execution_count": 40,
      "outputs": [
        {
          "output_type": "stream",
          "name": "stdout",
          "text": [
            "   EmployeeId FirstName  LastName  TotalSales\n",
            "0           3      Jane   Peacock      833.04\n",
            "1           4  Margaret      Park      775.40\n",
            "2           5     Steve   Johnson      720.16\n",
            "3           1    Andrew     Adams         NaN\n",
            "4           2     Nancy   Edwards         NaN\n",
            "5           6   Michael  Mitchell         NaN\n",
            "6           7    Robert      King         NaN\n",
            "7           8     Laura  Callahan         NaN\n"
          ]
        }
      ]
    },
    {
      "cell_type": "code",
      "source": [
        "chin = sqlite3.connect('chinook.db')\n",
        "# modifying query to have all employees - turn NaN to zeros\n",
        "query = \"\"\"\n",
        "select\n",
        "  Employees.EmployeeID,\n",
        "  Employees.FirstName,\n",
        "  Employees.LastName,\n",
        "  coalesce(sum(invoices.Total), 0) as TotalSales --using coalesce to handle null values\n",
        "from employees\n",
        "left join customers on EmployeeID = customers.SupportRepID\n",
        "left join invoices on customers.CustomerID = invoices.CustomerID\n",
        "group by Employees.EmployeeID, Employees.FirstName, Employees.LastName\n",
        "order by TotalSales desc\n",
        ";\n",
        "\"\"\"\n",
        "# create query and store as data frame\n",
        "df0 = pd.read_sql_query(query, chin)\n",
        "# print df\n",
        "print(df0)\n",
        "chin.close()"
      ],
      "metadata": {
        "colab": {
          "base_uri": "https://localhost:8080/"
        },
        "id": "b-KCv4QF-ZTo",
        "outputId": "b5b53735-a787-4f73-b001-fb96cee593aa"
      },
      "execution_count": 41,
      "outputs": [
        {
          "output_type": "stream",
          "name": "stdout",
          "text": [
            "   EmployeeId FirstName  LastName  TotalSales\n",
            "0           3      Jane   Peacock      833.04\n",
            "1           4  Margaret      Park      775.40\n",
            "2           5     Steve   Johnson      720.16\n",
            "3           1    Andrew     Adams        0.00\n",
            "4           2     Nancy   Edwards        0.00\n",
            "5           6   Michael  Mitchell        0.00\n",
            "6           7    Robert      King        0.00\n",
            "7           8     Laura  Callahan        0.00\n"
          ]
        }
      ]
    },
    {
      "cell_type": "code",
      "source": [
        "# Abbreviating so I don't have to type as much\n",
        "chin = sqlite3.connect('chinook.db')\n",
        "query = \"\"\"\n",
        "select\n",
        "  E.EmployeeID,\n",
        "  E.FirstName,\n",
        "  E.LastName,\n",
        "  coalesce(sum(I.Total), 0) as TotalSales\n",
        "from employees E\n",
        "left join customers C on E.EmployeeID = C.SupportRepID\n",
        "left join invoices I on C.CustomerID = I.CustomerID\n",
        "group by E.EmployeeID, E.FirstName, E.LastName\n",
        "order by TotalSales desc\n",
        ";\n",
        "\"\"\"\n",
        "df1 = pd.read_sql_query(query, chin)\n",
        "print(df1)\n",
        "chin.close()"
      ],
      "metadata": {
        "colab": {
          "base_uri": "https://localhost:8080/"
        },
        "id": "kHCyD9IZEFaz",
        "outputId": "c69fea1c-ff36-4cbd-dcee-e70d1ed81398"
      },
      "execution_count": 42,
      "outputs": [
        {
          "output_type": "stream",
          "name": "stdout",
          "text": [
            "   EmployeeId FirstName  LastName  TotalSales\n",
            "0           3      Jane   Peacock      833.04\n",
            "1           4  Margaret      Park      775.40\n",
            "2           5     Steve   Johnson      720.16\n",
            "3           1    Andrew     Adams        0.00\n",
            "4           2     Nancy   Edwards        0.00\n",
            "5           6   Michael  Mitchell        0.00\n",
            "6           7    Robert      King        0.00\n",
            "7           8     Laura  Callahan        0.00\n"
          ]
        }
      ]
    },
    {
      "cell_type": "code",
      "source": [
        "# Plot of sales from employees (same as above but in chart form)\n",
        "chin = sqlite3.connect('chinook.db')\n",
        "query = \"\"\"\n",
        "select\n",
        "  E.EmployeeID,\n",
        "  E.FirstName,\n",
        "  E.LastName,\n",
        "  coalesce(sum(I.Total), 0) as TotalSales\n",
        "from employees E\n",
        "left join customers C on E.EmployeeID = C.SupportRepID\n",
        "left join invoices I on C.CustomerID = I.CustomerID\n",
        "group by E.EmployeeID, E.FirstName, E.LastName\n",
        "order by TotalSales desc\n",
        ";\n",
        "\"\"\"\n",
        "# Reading in the data\n",
        "df1 = pd.read_sql_query(query, chin)\n",
        "# Save the data to csv file\n",
        "df1.to_csv('output.csv', index = False)\n",
        "# Plot\n",
        "plt.figure(figsize = (10,8))\n",
        "plt.bar(df1['FirstName'], df1['TotalSales'])\n",
        "plt.title('Sales from each Employee')\n",
        "plt.xlabel('Employee')\n",
        "plt.ylabel('Sales')\n",
        "plt.show()"
      ],
      "metadata": {
        "colab": {
          "base_uri": "https://localhost:8080/",
          "height": 718
        },
        "id": "wbK8fCO1t5Io",
        "outputId": "b8a8b3d6-c783-4855-d3f0-1319a26c325a"
      },
      "execution_count": 43,
      "outputs": [
        {
          "output_type": "display_data",
          "data": {
            "text/plain": [
              "<Figure size 1000x800 with 1 Axes>"
            ],
            "image/png": "[encoded data removed]"
          },
          "metadata": {}
        }
      ]
    },
    {
      "cell_type": "code",
      "source": [
        "%%script sqlite3 --column --header chinook.db\n",
        "select country, count(*) as CustomerCount\n",
        "from customers\n",
        "group by country\n",
        "order by customercount desc\n",
        ";"
      ],
      "metadata": {
        "colab": {
          "base_uri": "https://localhost:8080/"
        },
        "id": "RHYAIL8FYMaU",
        "outputId": "00cc5d09-fd8f-47d6-e113-9387c5375376"
      },
      "execution_count": 44,
      "outputs": [
        {
          "output_type": "stream",
          "name": "stdout",
          "text": [
            "Country         CustomerCount\n",
            "--------------  -------------\n",
            "USA             13           \n",
            "Canada          8            \n",
            "France          5            \n",
            "Brazil          5            \n",
            "Germany         4            \n",
            "United Kingdom  3            \n",
            "Portugal        2            \n",
            "India           2            \n",
            "Czech Republic  2            \n",
            "Sweden          1            \n",
            "Spain           1            \n",
            "Poland          1            \n",
            "Norway          1            \n",
            "Netherlands     1            \n",
            "Italy           1            \n",
            "Ireland         1            \n",
            "Hungary         1            \n",
            "Finland         1            \n",
            "Denmark         1            \n",
            "Chile           1            \n",
            "Belgium         1            \n",
            "Austria         1            \n",
            "Australia       1            \n",
            "Argentina       1            \n"
          ]
        }
      ]
    },
    {
      "cell_type": "code",
      "source": [
        "# Count of customers in countries\n",
        "chin = sqlite3.connect('chinook.db')\n",
        "query = \"\"\"\n",
        "select country, count(*) as CustomerCount\n",
        "from customers\n",
        "group by country\n",
        "order by CustomerCount desc\n",
        ";\n",
        "\"\"\"\n",
        "df2 = pd.read_sql_query(query, chin)\n",
        "\n",
        "chin.close()\n",
        "\n",
        "plt.figure(figsize = (10,8))\n",
        "plt.bar(df2['Country'], df2['CustomerCount'])\n",
        "plt.xlabel('Country')\n",
        "plt.ylabel('Count')\n",
        "plt.title('Sales per Country')\n",
        "plt.xticks(rotation = 45, ha = 'right')\n",
        "plt.tight_layout()\n",
        "plt.show()"
      ],
      "metadata": {
        "colab": {
          "base_uri": "https://localhost:8080/",
          "height": 807
        },
        "id": "03NAs4V9MBpF",
        "outputId": "bc7188d8-e209-4565-e552-46ba04093e49"
      },
      "execution_count": 49,
      "outputs": [
        {
          "output_type": "display_data",
          "data": {
            "text/plain": [
              "<Figure size 1000x800 with 1 Axes>"
            ],
            "image/png": "[encoded data removed]"
          },
          "metadata": {}
        }
      ]
    },
    {
      "cell_type": "markdown",
      "source": [
        "## EXTRA CREDIT:\n",
        "* Use a CTE\n",
        "* Use a query that joins two or more tables.\n",
        "* Make a model to see if you can predict something\n",
        "* Come up with something else cool to do with your data\n"
      ],
      "metadata": {
        "id": "H6QrBn3n58mU"
      }
    },
    {
      "cell_type": "code",
      "source": [],
      "metadata": {
        "id": "rEZQv6vn59IP"
      },
      "execution_count": null,
      "outputs": []
    }
  ]
}