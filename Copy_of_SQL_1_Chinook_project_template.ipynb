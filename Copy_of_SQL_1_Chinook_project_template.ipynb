{
  "nbformat": 4,
  "nbformat_minor": 0,
  "metadata": {
    "colab": {
      "provenance": [],
      "toc_visible": true,
      "include_colab_link": true
    },
    "kernelspec": {
      "name": "python3",
      "display_name": "Python 3"
    },
    "language_info": {
      "name": "python"
    }
  },
  "cells": [
    {
      "cell_type": "markdown",
      "metadata": {
        "id": "view-in-github",
        "colab_type": "text"
      },
      "source": [
        "<a href=\"https://colab.research.google.com/github/samula98/proj3pt1v00/blob/main/Copy_of_SQL_1_Chinook_project_template.ipynb\" target=\"_parent\"><img src=\"https://colab.research.google.com/assets/colab-badge.svg\" alt=\"Open In Colab\"/></a>"
      ]
    },
    {
      "cell_type": "markdown",
      "source": [
        "# Project SQL - Chinook\n"
      ],
      "metadata": {
        "id": "cJG_e1vK2NMI"
      }
    },
    {
      "cell_type": "markdown",
      "source": [
        "## Chinook data set\n",
        "\n",
        "See the lecture on SQLite3 using the Chinook data set to set up the software, database, and tables, as well as for the links to ancillary information about the data set.\n"
      ],
      "metadata": {
        "id": "s6jMcIbW3P5o"
      }
    },
    {
      "cell_type": "code",
      "source": [
        "# Install the sqlite package for Ubuntu\n",
        "%%capture\n",
        "%%bash\n",
        "apt-get update\n",
        "apt-get install -y sqlite3\n"
      ],
      "metadata": {
        "id": "UhFW0uTR6Jfv"
      },
      "execution_count": 1,
      "outputs": []
    },
    {
      "cell_type": "code",
      "source": [
        "# Download the Chinook sqlite database\n",
        "%%bash\n",
        "[ -f chinook.zip ] ||\n",
        "  curl -s -O https://www.sqlitetutorial.net/wp-content/uploads/2018/03/chinook.zip\n",
        "unzip -l chinook.zip\n"
      ],
      "metadata": {
        "colab": {
          "base_uri": "https://localhost:8080/"
        },
        "collapsed": true,
        "id": "2EnidXvNy5vj",
        "outputId": "a84c8532-33cf-4e5a-a427-cfbed476b6e5"
      },
      "execution_count": 2,
      "outputs": [
        {
          "output_type": "stream",
          "name": "stdout",
          "text": [
            "Archive:  chinook.zip\n",
            "  Length      Date    Time    Name\n",
            "---------  ---------- -----   ----\n",
            "   884736  2015-11-29 10:53   chinook.db\n",
            "---------                     -------\n",
            "   884736                     1 file\n"
          ]
        }
      ]
    },
    {
      "cell_type": "code",
      "source": [
        "# unzipping file\n",
        "!unzip -u chinook.zip\n"
      ],
      "metadata": {
        "colab": {
          "base_uri": "https://localhost:8080/"
        },
        "collapsed": true,
        "id": "EoUeb49RzEIT",
        "outputId": "1eec6903-45e2-4d54-d660-966f3a82d136"
      },
      "execution_count": 3,
      "outputs": [
        {
          "output_type": "stream",
          "name": "stdout",
          "text": [
            "Archive:  chinook.zip\n",
            "  inflating: chinook.db              \n"
          ]
        }
      ]
    },
    {
      "cell_type": "code",
      "source": [
        "# listing out all the files\n",
        "!ls -la"
      ],
      "metadata": {
        "colab": {
          "base_uri": "https://localhost:8080/"
        },
        "collapsed": true,
        "id": "DVMzRUJUzQUm",
        "outputId": "ef8c352c-6309-4783-c660-37dadb3281fe"
      },
      "execution_count": 4,
      "outputs": [
        {
          "output_type": "stream",
          "name": "stdout",
          "text": [
            "total 1180\n",
            "drwxr-xr-x 1 root root   4096 Oct 28 04:55 .\n",
            "drwxr-xr-x 1 root root   4096 Oct 28 04:53 ..\n",
            "-rw-r--r-- 1 root root 884736 Nov 29  2015 chinook.db\n",
            "-rw-r--r-- 1 root root 305596 Oct 28 04:55 chinook.zip\n",
            "drwxr-xr-x 4 root root   4096 Oct 24 13:20 .config\n",
            "drwxr-xr-x 1 root root   4096 Oct 24 13:20 sample_data\n"
          ]
        }
      ]
    },
    {
      "cell_type": "code",
      "source": [
        "# List of the tables in the database\n",
        "%%script sqlite3 --column --header chinook.db\n",
        ".tables\n"
      ],
      "metadata": {
        "colab": {
          "base_uri": "https://localhost:8080/"
        },
        "id": "UAtCPKdNzZkH",
        "outputId": "9e5b1b90-0808-4cad-da07-8bd2d4eeafcd"
      },
      "execution_count": 5,
      "outputs": [
        {
          "output_type": "stream",
          "name": "stdout",
          "text": [
            "albums          employees       invoices        playlists     \n",
            "artists         genres          media_types     tracks        \n",
            "customers       invoice_items   playlist_track\n"
          ]
        }
      ]
    },
    {
      "cell_type": "code",
      "source": [
        "# Show schema for the entire database\n",
        "%%script sqlite3 --column --header chinook.db\n",
        ".schema\n"
      ],
      "metadata": {
        "colab": {
          "base_uri": "https://localhost:8080/"
        },
        "collapsed": true,
        "id": "SHmNO1Cbzpy5",
        "outputId": "a00a0510-4fca-480e-e4a6-580e679f804d"
      },
      "execution_count": 6,
      "outputs": [
        {
          "output_type": "stream",
          "name": "stdout",
          "text": [
            "CREATE TABLE IF NOT EXISTS \"albums\"\r\n",
            "(\r\n",
            "    [AlbumId] INTEGER PRIMARY KEY AUTOINCREMENT NOT NULL,\r\n",
            "    [Title] NVARCHAR(160)  NOT NULL,\r\n",
            "    [ArtistId] INTEGER  NOT NULL,\r\n",
            "    FOREIGN KEY ([ArtistId]) REFERENCES \"artists\" ([ArtistId]) \r\n",
            "\t\tON DELETE NO ACTION ON UPDATE NO ACTION\r\n",
            ");\n",
            "CREATE TABLE sqlite_sequence(name,seq);\n",
            "CREATE TABLE IF NOT EXISTS \"artists\"\r\n",
            "(\r\n",
            "    [ArtistId] INTEGER PRIMARY KEY AUTOINCREMENT NOT NULL,\r\n",
            "    [Name] NVARCHAR(120)\r\n",
            ");\n",
            "CREATE TABLE IF NOT EXISTS \"customers\"\r\n",
            "(\r\n",
            "    [CustomerId] INTEGER PRIMARY KEY AUTOINCREMENT NOT NULL,\r\n",
            "    [FirstName] NVARCHAR(40)  NOT NULL,\r\n",
            "    [LastName] NVARCHAR(20)  NOT NULL,\r\n",
            "    [Company] NVARCHAR(80),\r\n",
            "    [Address] NVARCHAR(70),\r\n",
            "    [City] NVARCHAR(40),\r\n",
            "    [State] NVARCHAR(40),\r\n",
            "    [Country] NVARCHAR(40),\r\n",
            "    [PostalCode] NVARCHAR(10),\r\n",
            "    [Phone] NVARCHAR(24),\r\n",
            "    [Fax] NVARCHAR(24),\r\n",
            "    [Email] NVARCHAR(60)  NOT NULL,\r\n",
            "    [SupportRepId] INTEGER,\r\n",
            "    FOREIGN KEY ([SupportRepId]) REFERENCES \"employees\" ([EmployeeId]) \r\n",
            "\t\tON DELETE NO ACTION ON UPDATE NO ACTION\r\n",
            ");\n",
            "CREATE TABLE IF NOT EXISTS \"employees\"\r\n",
            "(\r\n",
            "    [EmployeeId] INTEGER PRIMARY KEY AUTOINCREMENT NOT NULL,\r\n",
            "    [LastName] NVARCHAR(20)  NOT NULL,\r\n",
            "    [FirstName] NVARCHAR(20)  NOT NULL,\r\n",
            "    [Title] NVARCHAR(30),\r\n",
            "    [ReportsTo] INTEGER,\r\n",
            "    [BirthDate] DATETIME,\r\n",
            "    [HireDate] DATETIME,\r\n",
            "    [Address] NVARCHAR(70),\r\n",
            "    [City] NVARCHAR(40),\r\n",
            "    [State] NVARCHAR(40),\r\n",
            "    [Country] NVARCHAR(40),\r\n",
            "    [PostalCode] NVARCHAR(10),\r\n",
            "    [Phone] NVARCHAR(24),\r\n",
            "    [Fax] NVARCHAR(24),\r\n",
            "    [Email] NVARCHAR(60),\r\n",
            "    FOREIGN KEY ([ReportsTo]) REFERENCES \"employees\" ([EmployeeId]) \r\n",
            "\t\tON DELETE NO ACTION ON UPDATE NO ACTION\r\n",
            ");\n",
            "CREATE TABLE IF NOT EXISTS \"genres\"\r\n",
            "(\r\n",
            "    [GenreId] INTEGER PRIMARY KEY AUTOINCREMENT NOT NULL,\r\n",
            "    [Name] NVARCHAR(120)\r\n",
            ");\n",
            "CREATE TABLE IF NOT EXISTS \"invoices\"\r\n",
            "(\r\n",
            "    [InvoiceId] INTEGER PRIMARY KEY AUTOINCREMENT NOT NULL,\r\n",
            "    [CustomerId] INTEGER  NOT NULL,\r\n",
            "    [InvoiceDate] DATETIME  NOT NULL,\r\n",
            "    [BillingAddress] NVARCHAR(70),\r\n",
            "    [BillingCity] NVARCHAR(40),\r\n",
            "    [BillingState] NVARCHAR(40),\r\n",
            "    [BillingCountry] NVARCHAR(40),\r\n",
            "    [BillingPostalCode] NVARCHAR(10),\r\n",
            "    [Total] NUMERIC(10,2)  NOT NULL,\r\n",
            "    FOREIGN KEY ([CustomerId]) REFERENCES \"customers\" ([CustomerId]) \r\n",
            "\t\tON DELETE NO ACTION ON UPDATE NO ACTION\r\n",
            ");\n",
            "CREATE TABLE IF NOT EXISTS \"invoice_items\"\r\n",
            "(\r\n",
            "    [InvoiceLineId] INTEGER PRIMARY KEY AUTOINCREMENT NOT NULL,\r\n",
            "    [InvoiceId] INTEGER  NOT NULL,\r\n",
            "    [TrackId] INTEGER  NOT NULL,\r\n",
            "    [UnitPrice] NUMERIC(10,2)  NOT NULL,\r\n",
            "    [Quantity] INTEGER  NOT NULL,\r\n",
            "    FOREIGN KEY ([InvoiceId]) REFERENCES \"invoices\" ([InvoiceId]) \r\n",
            "\t\tON DELETE NO ACTION ON UPDATE NO ACTION,\r\n",
            "    FOREIGN KEY ([TrackId]) REFERENCES \"tracks\" ([TrackId]) \r\n",
            "\t\tON DELETE NO ACTION ON UPDATE NO ACTION\r\n",
            ");\n",
            "CREATE TABLE IF NOT EXISTS \"media_types\"\r\n",
            "(\r\n",
            "    [MediaTypeId] INTEGER PRIMARY KEY AUTOINCREMENT NOT NULL,\r\n",
            "    [Name] NVARCHAR(120)\r\n",
            ");\n",
            "CREATE TABLE IF NOT EXISTS \"playlists\"\r\n",
            "(\r\n",
            "    [PlaylistId] INTEGER PRIMARY KEY AUTOINCREMENT NOT NULL,\r\n",
            "    [Name] NVARCHAR(120)\r\n",
            ");\n",
            "CREATE TABLE IF NOT EXISTS \"playlist_track\"\r\n",
            "(\r\n",
            "    [PlaylistId] INTEGER  NOT NULL,\r\n",
            "    [TrackId] INTEGER  NOT NULL,\r\n",
            "    CONSTRAINT [PK_PlaylistTrack] PRIMARY KEY  ([PlaylistId], [TrackId]),\r\n",
            "    FOREIGN KEY ([PlaylistId]) REFERENCES \"playlists\" ([PlaylistId]) \r\n",
            "\t\tON DELETE NO ACTION ON UPDATE NO ACTION,\r\n",
            "    FOREIGN KEY ([TrackId]) REFERENCES \"tracks\" ([TrackId]) \r\n",
            "\t\tON DELETE NO ACTION ON UPDATE NO ACTION\r\n",
            ");\n",
            "CREATE TABLE IF NOT EXISTS \"tracks\"\r\n",
            "(\r\n",
            "    [TrackId] INTEGER PRIMARY KEY AUTOINCREMENT NOT NULL,\r\n",
            "    [Name] NVARCHAR(200)  NOT NULL,\r\n",
            "    [AlbumId] INTEGER,\r\n",
            "    [MediaTypeId] INTEGER  NOT NULL,\r\n",
            "    [GenreId] INTEGER,\r\n",
            "    [Composer] NVARCHAR(220),\r\n",
            "    [Milliseconds] INTEGER  NOT NULL,\r\n",
            "    [Bytes] INTEGER,\r\n",
            "    [UnitPrice] NUMERIC(10,2)  NOT NULL,\r\n",
            "    FOREIGN KEY ([AlbumId]) REFERENCES \"albums\" ([AlbumId]) \r\n",
            "\t\tON DELETE NO ACTION ON UPDATE NO ACTION,\r\n",
            "    FOREIGN KEY ([GenreId]) REFERENCES \"genres\" ([GenreId]) \r\n",
            "\t\tON DELETE NO ACTION ON UPDATE NO ACTION,\r\n",
            "    FOREIGN KEY ([MediaTypeId]) REFERENCES \"media_types\" ([MediaTypeId]) \r\n",
            "\t\tON DELETE NO ACTION ON UPDATE NO ACTION\r\n",
            ");\n",
            "CREATE INDEX [IFK_AlbumArtistId] ON \"albums\" ([ArtistId]);\n",
            "CREATE INDEX [IFK_CustomerSupportRepId] ON \"customers\" ([SupportRepId]);\n",
            "CREATE INDEX [IFK_EmployeeReportsTo] ON \"employees\" ([ReportsTo]);\n",
            "CREATE INDEX [IFK_InvoiceCustomerId] ON \"invoices\" ([CustomerId]);\n",
            "CREATE INDEX [IFK_InvoiceLineInvoiceId] ON \"invoice_items\" ([InvoiceId]);\n",
            "CREATE INDEX [IFK_InvoiceLineTrackId] ON \"invoice_items\" ([TrackId]);\n",
            "CREATE INDEX [IFK_PlaylistTrackTrackId] ON \"playlist_track\" ([TrackId]);\n",
            "CREATE INDEX [IFK_TrackAlbumId] ON \"tracks\" ([AlbumId]);\n",
            "CREATE INDEX [IFK_TrackGenreId] ON \"tracks\" ([GenreId]);\n",
            "CREATE INDEX [IFK_TrackMediaTypeId] ON \"tracks\" ([MediaTypeId]);\n",
            "CREATE TABLE sqlite_stat1(tbl,idx,stat);\n"
          ]
        }
      ]
    },
    {
      "cell_type": "code",
      "source": [
        "# Count of number of unique albums\n",
        "%%script sqlite3 --column --header chinook.db\n",
        "select count(distinct AlbumID)\n",
        "from tracks\n"
      ],
      "metadata": {
        "colab": {
          "base_uri": "https://localhost:8080/"
        },
        "collapsed": true,
        "id": "G24HOKqR4sNd",
        "outputId": "3c98a9d2-f222-42fe-f7ac-10aad7023e32"
      },
      "execution_count": 7,
      "outputs": [
        {
          "output_type": "stream",
          "name": "stdout",
          "text": [
            "count(distinct AlbumID)\n",
            "-----------------------\n",
            "347                    \n"
          ]
        }
      ]
    },
    {
      "cell_type": "code",
      "source": [
        "# Count of number of countries that have records\n",
        "%%script sqlite3 --column --header chinook.db\n",
        "select count(distinct BillingCity)\n",
        "from invoices"
      ],
      "metadata": {
        "colab": {
          "base_uri": "https://localhost:8080/"
        },
        "id": "W8BQFtHNE83r",
        "outputId": "a67fa711-fe3b-4214-b7b3-58548d43004c"
      },
      "execution_count": 8,
      "outputs": [
        {
          "output_type": "stream",
          "name": "stdout",
          "text": [
            "count(distinct BillingCity)\n",
            "---------------------------\n",
            "53                         \n"
          ]
        }
      ]
    },
    {
      "cell_type": "code",
      "source": [
        "# Count of countries of the customers\n",
        "%%script sqlite3 --column --header chinook.db\n",
        "select count(distinct Country)\n",
        "from customers\n"
      ],
      "metadata": {
        "colab": {
          "base_uri": "https://localhost:8080/"
        },
        "id": "C-QHffkOFit1",
        "outputId": "56b2fb53-7ec9-4d80-b3db-54f721488fa1"
      },
      "execution_count": 9,
      "outputs": [
        {
          "output_type": "stream",
          "name": "stdout",
          "text": [
            "count(distinct Country)\n",
            "-----------------------\n",
            "24                     \n"
          ]
        }
      ]
    },
    {
      "cell_type": "markdown",
      "source": [
        "## Come up with questions about your data\n",
        "Have a look at the Entity-Relation ( ER ) diagram to help come up with questions.\n",
        "\n",
        "* What sort of information is in this dataset?\n",
        "* How many records are there?\n",
        "* How many different countries (states, counties, cities, etc) have records in this data set?\n",
        "\n",
        "\n",
        "If you are stuck, here are some ideas for questions:\n",
        "- https://github.com/LucasMcL/15-sql_queries_02-chinook/blob/master/README.md\n",
        "- [Using the R language]( https://rpubs.com/enext777/636199 )\n",
        "- [Search Google]( https://www.google.com/search?q=chinook+database+questions )\n",
        "\n"
      ],
      "metadata": {
        "id": "OA9Mp38s52x2"
      }
    },
    {
      "cell_type": "code",
      "source": [
        "# What sort of information is in this dataset?\n",
        "# There is information about the relation between employees, customers, invoices, albums, artists,\n",
        "# tracks, playlists, and genres within the ER diagram. There is also the names and ID numbers of\n",
        "# the different objects within each table.\n",
        "\n",
        "# How many records are there?\n",
        "# 347 unique albums\n",
        "\n",
        "# How many different countries (states, counties, cities, etc) have records in this data set?\n",
        "# 53 unique cities from invoices\n",
        "# 24 unique countries from customers"
      ],
      "metadata": {
        "id": "lEAv-WRmy1bN"
      },
      "execution_count": 10,
      "outputs": []
    },
    {
      "cell_type": "markdown",
      "source": [
        "## Use SQL queries to pull specific information\n",
        "\n",
        "Do NOT pull all the data and then filter using DataFrame methods etc. Make sure and use AT LEAST 13 of the 15 SQL options listed below. (You may have to get creative and come up with more questions to ask/answer.)\n"
      ],
      "metadata": {
        "id": "TqvaIfog546s"
      }
    },
    {
      "cell_type": "markdown",
      "source": [
        "### Basic Queries\n"
      ],
      "metadata": {
        "id": "borajWvCtRtl"
      }
    },
    {
      "cell_type": "markdown",
      "source": [
        "#### SELECT (with * and with column names)\n"
      ],
      "metadata": {
        "id": "gIEIK51EthwM"
      }
    },
    {
      "cell_type": "code",
      "source": [
        "# What are the first 10 entries from the albums table?\n",
        "%%script sqlite3 --column --header chinook.db\n",
        "select *\n",
        "from albums\n",
        "limit 10"
      ],
      "metadata": {
        "id": "YmICVUnVuBSQ",
        "colab": {
          "base_uri": "https://localhost:8080/"
        },
        "collapsed": true,
        "outputId": "4588b51e-4e6e-42fa-8b67-4857975ff0e2"
      },
      "execution_count": 11,
      "outputs": [
        {
          "output_type": "stream",
          "name": "stdout",
          "text": [
            "AlbumId  Title                                  ArtistId\n",
            "-------  -------------------------------------  --------\n",
            "1        For Those About To Rock We Salute You  1       \n",
            "2        Balls to the Wall                      2       \n",
            "3        Restless and Wild                      2       \n",
            "4        Let There Be Rock                      1       \n",
            "5        Big Ones                               3       \n",
            "6        Jagged Little Pill                     4       \n",
            "7        Facelift                               5       \n",
            "8        Warner 25 Anos                         6       \n",
            "9        Plays Metallica By Four Cellos         7       \n",
            "10       Audioslave                             8       \n"
          ]
        }
      ]
    },
    {
      "cell_type": "code",
      "source": [
        "# What are the names of the countries that the customers are from?\n",
        "%%script sqlite3 --column --header chinook.db\n",
        "select distinct Country\n",
        "from Customers"
      ],
      "metadata": {
        "id": "NMrvo0jE6LL9",
        "colab": {
          "base_uri": "https://localhost:8080/"
        },
        "outputId": "49f5683f-62e0-4c12-9128-793424a9ff44"
      },
      "execution_count": 12,
      "outputs": [
        {
          "output_type": "stream",
          "name": "stdout",
          "text": [
            "Country       \n",
            "--------------\n",
            "Brazil        \n",
            "Germany       \n",
            "Canada        \n",
            "Norway        \n",
            "Czech Republic\n",
            "Austria       \n",
            "Belgium       \n",
            "Denmark       \n",
            "USA           \n",
            "Portugal      \n",
            "France        \n",
            "Finland       \n",
            "Hungary       \n",
            "Ireland       \n",
            "Italy         \n",
            "Netherlands   \n",
            "Poland        \n",
            "Spain         \n",
            "Sweden        \n",
            "United Kingdom\n",
            "Australia     \n",
            "Argentina     \n",
            "Chile         \n",
            "India         \n"
          ]
        }
      ]
    },
    {
      "cell_type": "markdown",
      "source": [
        "#### WHERE\n"
      ],
      "metadata": {
        "id": "dRvXfTGEtkdQ"
      }
    },
    {
      "cell_type": "code",
      "source": [
        "# What are Audioslaves album names?\n",
        "%%script sqlite3 --column --header chinook.db\n",
        "select *\n",
        "from artists\n",
        "join albums\n",
        "on artists.ArtistID = albums.ArtistID\n",
        "where Name = 'Audioslave'"
      ],
      "metadata": {
        "id": "0oNobfUnt_4Z",
        "colab": {
          "base_uri": "https://localhost:8080/"
        },
        "collapsed": true,
        "outputId": "07a6912d-b984-4ba4-8846-cda6aed5994f"
      },
      "execution_count": 13,
      "outputs": [
        {
          "output_type": "stream",
          "name": "stdout",
          "text": [
            "ArtistId  Name        AlbumId  Title         ArtistId\n",
            "--------  ----------  -------  ------------  --------\n",
            "8         Audioslave  10       Audioslave    8       \n",
            "8         Audioslave  11       Out Of Exile  8       \n",
            "8         Audioslave  271      Revelations   8       \n"
          ]
        }
      ]
    },
    {
      "cell_type": "markdown",
      "source": [
        "#### AND\n"
      ],
      "metadata": {
        "id": "u5y_3d4GtlqN"
      }
    },
    {
      "cell_type": "code",
      "source": [
        "# Who are the customers from Brazil with 3 as Support Rep ID?\n",
        "%%script sqlite3 --column --header chinook.db\n",
        "select *\n",
        "from customers\n",
        "where country = 'Brazil'\n",
        "and SupportRepID = 3"
      ],
      "metadata": {
        "id": "H1tgAAFtt_Yy",
        "colab": {
          "base_uri": "https://localhost:8080/"
        },
        "collapsed": true,
        "outputId": "05c99d33-65eb-4961-ebcf-d0a9824564ce"
      },
      "execution_count": 14,
      "outputs": [
        {
          "output_type": "stream",
          "name": "stdout",
          "text": [
            "CustomerId  FirstName  LastName   Company                                           Address                          City                 State  Country  PostalCode  Phone               Fax                 Email                          SupportRepId\n",
            "----------  ---------  ---------  ------------------------------------------------  -------------------------------  -------------------  -----  -------  ----------  ------------------  ------------------  -----------------------------  ------------\n",
            "1           Luís       Gonçalves  Embraer - Empresa Brasileira de Aeronáutica S.A.  Av. Brigadeiro Faria Lima, 2170  São José dos Campos  SP     Brazil   12227-000   +55 (12) 3923-5555  +55 (12) 3923-5566  luisg@embraer.com.br           3           \n",
            "12          Roberto    Almeida    Riotur                                            Praça Pio X, 119                 Rio de Janeiro       RJ     Brazil   20040-020   +55 (21) 2271-7000  +55 (21) 2271-7070  roberto.almeida@riotur.gov.br  3           \n"
          ]
        }
      ]
    },
    {
      "cell_type": "markdown",
      "source": [
        "#### OR\n"
      ],
      "metadata": {
        "id": "fddyzEAetnzB"
      }
    },
    {
      "cell_type": "code",
      "source": [
        "# Who are the customers from Argentina and Brazil?\n",
        "%%script sqlite3 --column --header chinook.db\n",
        "select *\n",
        "from customers\n",
        "where country = 'Argentina'\n",
        "or country = 'Brazil'"
      ],
      "metadata": {
        "id": "HAg8LDQ3t-yr",
        "colab": {
          "base_uri": "https://localhost:8080/"
        },
        "collapsed": true,
        "outputId": "50251b04-b00f-4a71-dc3b-d7dd4f778324"
      },
      "execution_count": 15,
      "outputs": [
        {
          "output_type": "stream",
          "name": "stdout",
          "text": [
            "CustomerId  FirstName  LastName   Company                                           Address                          City                 State  Country    PostalCode  Phone                Fax                 Email                          SupportRepId\n",
            "----------  ---------  ---------  ------------------------------------------------  -------------------------------  -------------------  -----  ---------  ----------  -------------------  ------------------  -----------------------------  ------------\n",
            "1           Luís       Gonçalves  Embraer - Empresa Brasileira de Aeronáutica S.A.  Av. Brigadeiro Faria Lima, 2170  São José dos Campos  SP     Brazil     12227-000   +55 (12) 3923-5555   +55 (12) 3923-5566  luisg@embraer.com.br           3           \n",
            "10          Eduardo    Martins    Woodstock Discos                                  Rua Dr. Falcão Filho, 155        São Paulo            SP     Brazil     01007-010   +55 (11) 3033-5446   +55 (11) 3033-4564  eduardo@woodstock.com.br       4           \n",
            "11          Alexandre  Rocha      Banco do Brasil S.A.                              Av. Paulista, 2022               São Paulo            SP     Brazil     01310-200   +55 (11) 3055-3278   +55 (11) 3055-8131  alero@uol.com.br               5           \n",
            "12          Roberto    Almeida    Riotur                                            Praça Pio X, 119                 Rio de Janeiro       RJ     Brazil     20040-020   +55 (21) 2271-7000   +55 (21) 2271-7070  roberto.almeida@riotur.gov.br  3           \n",
            "13          Fernanda   Ramos                                                        Qe 7 Bloco G                     Brasília             DF     Brazil     71020-677   +55 (61) 3363-5547   +55 (61) 3363-7855  fernadaramos4@uol.com.br       4           \n",
            "56          Diego      Gutiérrez                                                    307 Macacha Güemes               Buenos Aires                Argentina  1106        +54 (0)11 4311 4333                      diego.gutierrez@yahoo.ar       4           \n"
          ]
        }
      ]
    },
    {
      "cell_type": "markdown",
      "source": [
        "#### LIKE (with % or _ wildcard)\n"
      ],
      "metadata": {
        "id": "-csoeatGtpRq"
      }
    },
    {
      "cell_type": "code",
      "source": [
        "# Who are the customers with a first name that starts with the letter A?\n",
        "%%script sqlite3 --column --header chinook.db\n",
        "select *\n",
        "from customers\n",
        "where FirstName like 'A%'"
      ],
      "metadata": {
        "id": "CixJguOYuw49",
        "colab": {
          "base_uri": "https://localhost:8080/"
        },
        "outputId": "4526059a-8227-41b1-d3aa-c74a1b7e62bc"
      },
      "execution_count": 16,
      "outputs": [
        {
          "output_type": "stream",
          "name": "stdout",
          "text": [
            "CustomerId  FirstName  LastName  Company               Address                               City       State  Country  PostalCode  Phone               Fax                 Email                   SupportRepId\n",
            "----------  ---------  --------  --------------------  ------------------------------------  ---------  -----  -------  ----------  ------------------  ------------------  ----------------------  ------------\n",
            "7           Astrid     Gruber                          Rotenturmstraße 4, 1010 Innere Stadt  Vienne            Austria  1010        +43 01 5134505                          astrid.gruber@apple.at  5           \n",
            "11          Alexandre  Rocha     Banco do Brasil S.A.  Av. Paulista, 2022                    São Paulo  SP     Brazil   01310-200   +55 (11) 3055-3278  +55 (11) 3055-8131  alero@uol.com.br        5           \n",
            "32          Aaron      Mitchell                        696 Osborne Street                    Winnipeg   MB     Canada   R3L 2B9     +1 (204) 452-6452                       aaronmitchell@yahoo.ca  4           \n"
          ]
        }
      ]
    },
    {
      "cell_type": "code",
      "source": [
        "# Who are the customers that are from countries that end in the letter A?\n",
        "%%script sqlite3 --column --header chinook.db\n",
        "select *\n",
        "from customers\n",
        "where Country like '%a'"
      ],
      "metadata": {
        "colab": {
          "base_uri": "https://localhost:8080/"
        },
        "id": "N6q2ZsUw26wO",
        "outputId": "7e70f26c-6e0a-465c-b290-eb35320b056e"
      },
      "execution_count": 18,
      "outputs": [
        {
          "output_type": "stream",
          "name": "stdout",
          "text": [
            "CustomerId  FirstName  LastName    Company                Address                               City            State  Country    PostalCode  Phone                Fax                Email                     SupportRepId\n",
            "----------  ---------  ----------  ---------------------  ------------------------------------  --------------  -----  ---------  ----------  -------------------  -----------------  ------------------------  ------------\n",
            "3           François   Tremblay                           1498 rue Bélanger                     Montréal        QC     Canada     H2G 1A7     +1 (514) 721-4711                       ftremblay@gmail.com       3           \n",
            "7           Astrid     Gruber                             Rotenturmstraße 4, 1010 Innere Stadt  Vienne                 Austria    1010        +43 01 5134505                          astrid.gruber@apple.at    5           \n",
            "14          Mark       Philips     Telus                  8210 111 ST NW                        Edmonton        AB     Canada     T6G 2C7     +1 (780) 434-4554    +1 (780) 434-5565  mphilips12@shaw.ca        5           \n",
            "15          Jennifer   Peterson    Rogers Canada          700 W Pender Street                   Vancouver       BC     Canada     V6C 1G8     +1 (604) 688-2255    +1 (604) 688-8756  jenniferp@rogers.ca       3           \n",
            "16          Frank      Harris      Google Inc.            1600 Amphitheatre Parkway             Mountain View   CA     USA        94043-1351  +1 (650) 253-0000    +1 (650) 253-0000  fharris@google.com        4           \n",
            "17          Jack       Smith       Microsoft Corporation  1 Microsoft Way                       Redmond         WA     USA        98052-8300  +1 (425) 882-8080    +1 (425) 882-8081  jacksmith@microsoft.com   5           \n",
            "18          Michelle   Brooks                             627 Broadway                          New York        NY     USA        10012-2612  +1 (212) 221-3546    +1 (212) 221-4679  michelleb@aol.com         3           \n",
            "19          Tim        Goyer       Apple Inc.             1 Infinite Loop                       Cupertino       CA     USA        95014       +1 (408) 996-1010    +1 (408) 996-1011  tgoyer@apple.com          3           \n",
            "20          Dan        Miller                             541 Del Medio Avenue                  Mountain View   CA     USA        94040-111   +1 (650) 644-3358                       dmiller@comcast.com       4           \n",
            "21          Kathy      Chase                              801 W 4th Street                      Reno            NV     USA        89503       +1 (775) 223-7665                       kachase@hotmail.com       5           \n",
            "22          Heather    Leacock                            120 S Orange Ave                      Orlando         FL     USA        32801       +1 (407) 999-7788                       hleacock@gmail.com        4           \n",
            "23          John       Gordon                             69 Salem Street                       Boston          MA     USA        2113        +1 (617) 522-1333                       johngordon22@yahoo.com    4           \n",
            "24          Frank      Ralston                            162 E Superior Street                 Chicago         IL     USA        60611       +1 (312) 332-3232                       fralston@gmail.com        3           \n",
            "25          Victor     Stevens                            319 N. Frances Street                 Madison         WI     USA        53703       +1 (608) 257-0597                       vstevens@yahoo.com        5           \n",
            "26          Richard    Cunningham                         2211 W Berry Street                   Fort Worth      TX     USA        76110       +1 (817) 924-7272                       ricunningham@hotmail.com  4           \n",
            "27          Patrick    Gray                               1033 N Park Ave                       Tucson          AZ     USA        85719       +1 (520) 622-4200                       patrick.gray@aol.com      4           \n",
            "28          Julia      Barnett                            302 S 700 E                           Salt Lake City  UT     USA        84102       +1 (801) 531-7272                       jubarnett@gmail.com       5           \n",
            "29          Robert     Brown                              796 Dundas Street West                Toronto         ON     Canada     M6J 1V1     +1 (416) 363-8888                       robbrown@shaw.ca          3           \n",
            "30          Edward     Francis                            230 Elgin Street                      Ottawa          ON     Canada     K2P 1L7     +1 (613) 234-3322                       edfrancis@yachoo.ca       3           \n",
            "31          Martha     Silk                               194A Chain Lake Drive                 Halifax         NS     Canada     B3S 1C5     +1 (902) 450-0450                       marthasilk@gmail.com      5           \n",
            "32          Aaron      Mitchell                           696 Osborne Street                    Winnipeg        MB     Canada     R3L 2B9     +1 (204) 452-6452                       aaronmitchell@yahoo.ca    4           \n",
            "33          Ellie      Sullivan                           5112 48 Street                        Yellowknife     NT     Canada     X1A 1N6     +1 (867) 920-2233                       ellie.sullivan@shaw.ca    3           \n",
            "55          Mark       Taylor                             421 Bourke Street                     Sidney          NSW    Australia  2010        +61 (02) 9332 3633                      mark.taylor@yahoo.au      4           \n",
            "56          Diego      Gutiérrez                          307 Macacha Güemes                    Buenos Aires           Argentina  1106        +54 (0)11 4311 4333                     diego.gutierrez@yahoo.ar  4           \n",
            "58          Manoj      Pareek                             12,Community Centre                   Delhi                  India      110017      +91 0124 39883988                       manoj.pareek@rediff.com   3           \n",
            "59          Puja       Srivastava                         3,Raj Bhavan Road                     Bangalore              India      560001      +91 080 22289999                        puja_srivastava@yahoo.in  3           \n"
          ]
        }
      ]
    },
    {
      "cell_type": "markdown",
      "source": [
        "#### BETWEEN\n"
      ],
      "metadata": {
        "id": "BV8kQ-9FtqGY"
      }
    },
    {
      "cell_type": "code",
      "source": [
        "# What are the InvoiceID's that are between 25 and 35 in invoice_items?\n",
        "%%script sqlite3 --column --header chinook.db\n",
        "select *\n",
        "from invoice_items\n",
        "where InvoiceID between 25 and 35"
      ],
      "metadata": {
        "id": "AAMkUyW6t9IR",
        "collapsed": true
      },
      "execution_count": null,
      "outputs": []
    },
    {
      "cell_type": "markdown",
      "source": [
        "#### LIMIT\n",
        "\n"
      ],
      "metadata": {
        "id": "3BqrCUPBtqpX"
      }
    },
    {
      "cell_type": "code",
      "source": [
        "# What are the first 10 items in invoice_items that have a unit price of 1.99?\n",
        "%%script sqlite3 --column --header chinook.db\n",
        "select *\n",
        "from invoice_items\n",
        "where UnitPrice = 1.99\n",
        "limit 10"
      ],
      "metadata": {
        "id": "UB3EyaRRt9ki",
        "collapsed": true
      },
      "execution_count": null,
      "outputs": []
    },
    {
      "cell_type": "markdown",
      "source": [
        "### Sorting and Grouping\n"
      ],
      "metadata": {
        "id": "a4DtPW7ytrU7"
      }
    },
    {
      "cell_type": "markdown",
      "source": [
        "#### ORDER BY\n"
      ],
      "metadata": {
        "id": "SneUyw4Xtr-U"
      }
    },
    {
      "cell_type": "code",
      "source": [
        "# Order customers from Argentina and Brazil by their SupportRepID\n",
        "%%script sqlite3 --column --header chinook.db\n",
        "select *\n",
        "from customers\n",
        "where country = 'Argentina'\n",
        "or country = 'Brazil'\n",
        "order by SupportRepID"
      ],
      "metadata": {
        "id": "29jQ-pBFt7uf"
      },
      "execution_count": null,
      "outputs": []
    },
    {
      "cell_type": "markdown",
      "source": [
        "#### DISTINCT\n"
      ],
      "metadata": {
        "id": "Y22yRW5Wtsl1"
      }
    },
    {
      "cell_type": "code",
      "source": [
        "# How many distinct GenreID's are there in tracks?\n",
        "%%script sqlite3 --column --header chinook.db\n",
        "select count(distinct GenreID)\n",
        "from tracks"
      ],
      "metadata": {
        "id": "RGkf7Qh1t7Cm"
      },
      "execution_count": null,
      "outputs": []
    },
    {
      "cell_type": "markdown",
      "source": [
        "#### GROUP BY\n",
        "\n"
      ],
      "metadata": {
        "id": "Q0mwAOgettPz"
      }
    },
    {
      "cell_type": "code",
      "source": [
        "# Group Milliseconds, Bytes, TrackID, Name in tracks by Milliseconds\n",
        "%%script sqlite3 --column --header chinook.db\n",
        "select Milliseconds, Bytes, TrackID, Name\n",
        "from tracks\n",
        "group by Milliseconds\n",
        "limit 10"
      ],
      "metadata": {
        "id": "8cv2_l-Lt6Wv"
      },
      "execution_count": null,
      "outputs": []
    },
    {
      "cell_type": "code",
      "source": [
        "# Group Milliseconds, Bytes, TrackID, Name in tracks by Bytes\n",
        "%%script sqlite3 --column --header chinook.db\n",
        "select Milliseconds, Bytes, TrackID, Name\n",
        "from tracks\n",
        "group by Bytes\n",
        "limit 10"
      ],
      "metadata": {
        "id": "3cg-ach4E5Yc"
      },
      "execution_count": null,
      "outputs": []
    },
    {
      "cell_type": "markdown",
      "source": [
        "### Aggregates\n"
      ],
      "metadata": {
        "id": "dJUO6Dh3tt5c"
      }
    },
    {
      "cell_type": "markdown",
      "source": [
        "#### MAX\n"
      ],
      "metadata": {
        "id": "spacz18MtvBo"
      }
    },
    {
      "cell_type": "code",
      "source": [
        "# What is the longest song from tracks?\n",
        "%%script sqlite3 --column --header chinook.db\n",
        "select max(Milliseconds)\n",
        "from tracks\n",
        ";"
      ],
      "metadata": {
        "id": "e8Ke_lJKt2VQ"
      },
      "execution_count": null,
      "outputs": []
    },
    {
      "cell_type": "code",
      "source": [
        "# What is the largest song from tracks?\n",
        "%%script sqlite3 --column --header chinook.db\n",
        "select max(Bytes)\n",
        "from tracks\n",
        ";"
      ],
      "metadata": {
        "id": "MnyJJ79cJaLa"
      },
      "execution_count": null,
      "outputs": []
    },
    {
      "cell_type": "markdown",
      "source": [
        "#### MIN\n"
      ],
      "metadata": {
        "id": "V0z33BTztvoP"
      }
    },
    {
      "cell_type": "code",
      "source": [
        "# What is the shortest song from tracks?\n",
        "%%script sqlite3 --column --header chinook.db\n",
        "select min(Milliseconds)\n",
        "from tracks\n",
        ";"
      ],
      "metadata": {
        "id": "ishdZ9K3t1fh"
      },
      "execution_count": null,
      "outputs": []
    },
    {
      "cell_type": "code",
      "source": [
        "# What is the smallest song from tracks?\n",
        "%%script sqlite3 --column --header chinook.db\n",
        "select min(Bytes)\n",
        "from tracks\n",
        ";"
      ],
      "metadata": {
        "id": "zzNqAsUCJzAi"
      },
      "execution_count": null,
      "outputs": []
    },
    {
      "cell_type": "markdown",
      "source": [
        "#### SUM\n"
      ],
      "metadata": {
        "id": "nLYsB9M8twMf"
      }
    },
    {
      "cell_type": "code",
      "source": [
        "# What is the sum of invoices?\n",
        "%%script sqlite3 --column --header chinook.db\n",
        "select sum(total)\n",
        "from invoices"
      ],
      "metadata": {
        "id": "aoVDwom0t0zN"
      },
      "execution_count": null,
      "outputs": []
    },
    {
      "cell_type": "code",
      "source": [
        "# What is the sum of the number of invoice items?\n",
        "%%script sqlite3 --column --header chinook.db\n",
        "select sum(quantity)\n",
        "from invoice_items"
      ],
      "metadata": {
        "id": "DI0Ax12bLBh5"
      },
      "execution_count": null,
      "outputs": []
    },
    {
      "cell_type": "code",
      "source": [
        "# What is the sum of UnitPrice in invoice_itmes?\n",
        "%%script sqlite3 --column --header chinook.db\n",
        "select sum(UnitPrice)\n",
        "from invoice_items"
      ],
      "metadata": {
        "id": "qPJSrTK6LNnH"
      },
      "execution_count": null,
      "outputs": []
    },
    {
      "cell_type": "markdown",
      "source": [
        "#### AVG\n"
      ],
      "metadata": {
        "id": "0yI5K0Z5twwB"
      }
    },
    {
      "cell_type": "code",
      "source": [
        "# What is the average of UnitPrice in invoice_items?\n",
        "%%script sqlite3 --column --header chinook.db\n",
        "select avg(UnitPrice)\n",
        "from invoice_items"
      ],
      "metadata": {
        "id": "HkNbzJ4mtzgD"
      },
      "execution_count": null,
      "outputs": []
    },
    {
      "cell_type": "code",
      "source": [
        "# What is the average of Quantity in invoice_items?\n",
        "%%script sqlite3 --column --header chinook.db\n",
        "select avg(Quantity)\n",
        "from invoice_items"
      ],
      "metadata": {
        "id": "sSl-K6ciLs6Z"
      },
      "execution_count": null,
      "outputs": []
    },
    {
      "cell_type": "code",
      "source": [
        "# What is the average time in tracks?\n",
        "%%script sqlite3 --column --header chinook.db\n",
        "select avg(Milliseconds)\n",
        "from tracks"
      ],
      "metadata": {
        "id": "qvzNsx_cLzsh"
      },
      "execution_count": null,
      "outputs": []
    },
    {
      "cell_type": "code",
      "source": [
        "# What is the average size (in bytes) in tracks?\n",
        "%%script sqlite3 --column --header chinook.db\n",
        "select avg(Bytes)\n",
        "from tracks"
      ],
      "metadata": {
        "id": "psIRQgvZL9TO"
      },
      "execution_count": null,
      "outputs": []
    },
    {
      "cell_type": "markdown",
      "source": [
        "#### COUNT\n",
        "\n"
      ],
      "metadata": {
        "id": "JEkDbYyutxX5"
      }
    },
    {
      "cell_type": "code",
      "source": [
        "# How many unique albums are there?\n",
        "%%script sqlite3 --column --header chinook.db\n",
        "select count(distinct AlbumID)\n",
        "from tracks"
      ],
      "metadata": {
        "id": "8slKgFpsuBCh"
      },
      "execution_count": null,
      "outputs": []
    },
    {
      "cell_type": "code",
      "source": [
        "# How many countries are the customers from?\n",
        "%%script sqlite3 --column --header chinook.db\n",
        "select count(distinct Country)\n",
        "from customers"
      ],
      "metadata": {
        "id": "6zjgf8tCqdLy"
      },
      "execution_count": null,
      "outputs": []
    },
    {
      "cell_type": "markdown",
      "source": [
        "## Make some plots\n",
        "\n",
        "Make some cool plots to go with your data. Write SQL queries to get ONLY the information you need for each plot. (Don't pull ALL the data and then just plot a few columns.)\n",
        "\n"
      ],
      "metadata": {
        "id": "ntL8dHJT57K8"
      }
    },
    {
      "cell_type": "code",
      "source": [],
      "metadata": {
        "id": "SZXIuqBX6L50"
      },
      "execution_count": null,
      "outputs": []
    },
    {
      "cell_type": "markdown",
      "source": [
        "## EXTRA CREDIT:\n",
        "* Use a CTE\n",
        "* Use a query that joins two or more tables.\n",
        "* Make a model to see if you can predict something\n",
        "* Come up with something else cool to do with your data\n"
      ],
      "metadata": {
        "id": "H6QrBn3n58mU"
      }
    },
    {
      "cell_type": "code",
      "source": [],
      "metadata": {
        "id": "rEZQv6vn59IP"
      },
      "execution_count": null,
      "outputs": []
    }
  ]
}